{
 "cells": [
  {
   "cell_type": "markdown",
   "metadata": {},
   "source": [
    "## Problem Description:\n",
    "This outlines a machine learning problem in which you are required to create a model that can discriminate between English, Afrikaans, and Dutch phrases. A labelled dataset of phrases is provided/attached (lang_data.csv)."
   ]
  },
  {
   "cell_type": "code",
   "execution_count": 64,
   "metadata": {
    "collapsed": false,
    "jupyter": {
     "outputs_hidden": false
    }
   },
   "outputs": [
    {
     "name": "stderr",
     "output_type": "stream",
     "text": [
      "[nltk_data] Downloading package stopwords to /home/jovyan/nltk_data...\n",
      "[nltk_data]   Package stopwords is already up-to-date!\n"
     ]
    },
    {
     "data": {
      "text/plain": [
       "True"
      ]
     },
     "execution_count": 64,
     "metadata": {},
     "output_type": "execute_result"
    }
   ],
   "source": [
    "%matplotlib inline\n",
    "import matplotlib.pyplot as plt\n",
    "import numpy as np\n",
    "import pandas as pd\n",
    "import seaborn as sns\n",
    "sns.set(style=\"white\", palette=\"muted\", color_codes=True)\n",
    "\n",
    "\n",
    "from sklearn.metrics import r2_score\n",
    "from sklearn import model_selection\n",
    "from sklearn.pipeline import Pipeline\n",
    "\n",
    "from sklearn.metrics import classification_report\n",
    "from sklearn import metrics\n",
    "\n",
    "from sklearn.feature_extraction.text import CountVectorizer ,TfidfTransformer\n",
    "\n",
    "import inflect\n",
    "from bs4 import BeautifulSoup\n",
    "import nltk\n",
    "from nltk.corpus import stopwords\n",
    "from nltk.stem.snowball import SnowballStemmer\n",
    "from nltk import word_tokenize, sent_tokenize\n",
    "from nltk.corpus import stopwords\n",
    "from nltk.stem import LancasterStemmer, WordNetLemmatizer\n",
    "import re\n",
    "from sklearn.linear_model import SGDClassifier\n",
    "from sklearn.metrics import confusion_matrix\n",
    "\n",
    "import pickle\n",
    "\n",
    "# download stop words\n",
    "nltk.download('stopwords')"
   ]
  },
  {
   "cell_type": "code",
   "execution_count": 24,
   "metadata": {
    "scrolled": true
   },
   "outputs": [
    {
     "data": {
      "text/plain": [
       "2839"
      ]
     },
     "execution_count": 24,
     "metadata": {},
     "output_type": "execute_result"
    }
   ],
   "source": [
    "# load data \n",
    "df = pd.read_csv(\"../data/lang_data.csv\")\n",
    "len(df)"
   ]
  },
  {
   "cell_type": "code",
   "execution_count": 25,
   "metadata": {},
   "outputs": [
    {
     "name": "stdout",
     "output_type": "stream",
     "text": [
      "78 phrases are null\n"
     ]
    },
    {
     "data": {
      "text/html": [
       "<div>\n",
       "<style scoped>\n",
       "    .dataframe tbody tr th:only-of-type {\n",
       "        vertical-align: middle;\n",
       "    }\n",
       "\n",
       "    .dataframe tbody tr th {\n",
       "        vertical-align: top;\n",
       "    }\n",
       "\n",
       "    .dataframe thead th {\n",
       "        text-align: right;\n",
       "    }\n",
       "</style>\n",
       "<table border=\"1\" class=\"dataframe\">\n",
       "  <thead>\n",
       "    <tr style=\"text-align: right;\">\n",
       "      <th></th>\n",
       "      <th>text</th>\n",
       "      <th>language</th>\n",
       "    </tr>\n",
       "  </thead>\n",
       "  <tbody>\n",
       "    <tr>\n",
       "      <th>7</th>\n",
       "      <td>NaN</td>\n",
       "      <td>Afrikaans</td>\n",
       "    </tr>\n",
       "    <tr>\n",
       "      <th>11</th>\n",
       "      <td>NaN</td>\n",
       "      <td>Afrikaans</td>\n",
       "    </tr>\n",
       "    <tr>\n",
       "      <th>17</th>\n",
       "      <td>NaN</td>\n",
       "      <td>Afrikaans</td>\n",
       "    </tr>\n",
       "    <tr>\n",
       "      <th>51</th>\n",
       "      <td>NaN</td>\n",
       "      <td>Nederlands</td>\n",
       "    </tr>\n",
       "    <tr>\n",
       "      <th>70</th>\n",
       "      <td>NaN</td>\n",
       "      <td>English</td>\n",
       "    </tr>\n",
       "    <tr>\n",
       "      <th>...</th>\n",
       "      <td>...</td>\n",
       "      <td>...</td>\n",
       "    </tr>\n",
       "    <tr>\n",
       "      <th>2639</th>\n",
       "      <td>NaN</td>\n",
       "      <td>Nederlands</td>\n",
       "    </tr>\n",
       "    <tr>\n",
       "      <th>2660</th>\n",
       "      <td>NaN</td>\n",
       "      <td>Afrikaans</td>\n",
       "    </tr>\n",
       "    <tr>\n",
       "      <th>2676</th>\n",
       "      <td>NaN</td>\n",
       "      <td>Nederlands</td>\n",
       "    </tr>\n",
       "    <tr>\n",
       "      <th>2802</th>\n",
       "      <td>NaN</td>\n",
       "      <td>English</td>\n",
       "    </tr>\n",
       "    <tr>\n",
       "      <th>2813</th>\n",
       "      <td>NaN</td>\n",
       "      <td>Afrikaans</td>\n",
       "    </tr>\n",
       "  </tbody>\n",
       "</table>\n",
       "<p>78 rows × 2 columns</p>\n",
       "</div>"
      ],
      "text/plain": [
       "     text    language\n",
       "7     NaN   Afrikaans\n",
       "11    NaN   Afrikaans\n",
       "17    NaN   Afrikaans\n",
       "51    NaN  Nederlands\n",
       "70    NaN     English\n",
       "...   ...         ...\n",
       "2639  NaN  Nederlands\n",
       "2660  NaN   Afrikaans\n",
       "2676  NaN  Nederlands\n",
       "2802  NaN     English\n",
       "2813  NaN   Afrikaans\n",
       "\n",
       "[78 rows x 2 columns]"
      ]
     },
     "execution_count": 25,
     "metadata": {},
     "output_type": "execute_result"
    }
   ],
   "source": [
    "# check if there are null\n",
    "print('{} phrases are null'.format(df.isnull().text.sum()))\n",
    "df[df.isnull().text]"
   ]
  },
  {
   "cell_type": "markdown",
   "metadata": {},
   "source": [
    "### First we going to drop the NAN values"
   ]
  },
  {
   "cell_type": "code",
   "execution_count": 4,
   "metadata": {
    "collapsed": false,
    "jupyter": {
     "outputs_hidden": false
    }
   },
   "outputs": [],
   "source": [
    "# looks like there are some nulls so drop them\n",
    "df = df.dropna(how='any')"
   ]
  },
  {
   "cell_type": "code",
   "execution_count": 5,
   "metadata": {},
   "outputs": [
    {
     "data": {
      "text/html": [
       "<div>\n",
       "<style scoped>\n",
       "    .dataframe tbody tr th:only-of-type {\n",
       "        vertical-align: middle;\n",
       "    }\n",
       "\n",
       "    .dataframe tbody tr th {\n",
       "        vertical-align: top;\n",
       "    }\n",
       "\n",
       "    .dataframe thead th {\n",
       "        text-align: right;\n",
       "    }\n",
       "</style>\n",
       "<table border=\"1\" class=\"dataframe\">\n",
       "  <thead>\n",
       "    <tr style=\"text-align: right;\">\n",
       "      <th></th>\n",
       "      <th>text</th>\n",
       "      <th>language</th>\n",
       "    </tr>\n",
       "  </thead>\n",
       "  <tbody>\n",
       "    <tr>\n",
       "      <th>2658</th>\n",
       "      <td>Lark about</td>\n",
       "      <td>English</td>\n",
       "    </tr>\n",
       "    <tr>\n",
       "      <th>1304</th>\n",
       "      <td>Smart casual</td>\n",
       "      <td>English</td>\n",
       "    </tr>\n",
       "    <tr>\n",
       "      <th>615</th>\n",
       "      <td>Stiff upper lip</td>\n",
       "      <td>English</td>\n",
       "    </tr>\n",
       "    <tr>\n",
       "      <th>1444</th>\n",
       "      <td>Pull the wool over your eyes</td>\n",
       "      <td>English</td>\n",
       "    </tr>\n",
       "    <tr>\n",
       "      <th>2552</th>\n",
       "      <td>Jump the gun</td>\n",
       "      <td>English</td>\n",
       "    </tr>\n",
       "    <tr>\n",
       "      <th>1758</th>\n",
       "      <td>Bottle out</td>\n",
       "      <td>English</td>\n",
       "    </tr>\n",
       "    <tr>\n",
       "      <th>1881</th>\n",
       "      <td>Carpe Diem: Gryp die dag!</td>\n",
       "      <td>Afrikaans</td>\n",
       "    </tr>\n",
       "    <tr>\n",
       "      <th>412</th>\n",
       "      <td>Faint-hearted</td>\n",
       "      <td>English</td>\n",
       "    </tr>\n",
       "    <tr>\n",
       "      <th>155</th>\n",
       "      <td>Rumpy-pumpy</td>\n",
       "      <td>English</td>\n",
       "    </tr>\n",
       "    <tr>\n",
       "      <th>2216</th>\n",
       "      <td>The dark side</td>\n",
       "      <td>English</td>\n",
       "    </tr>\n",
       "  </tbody>\n",
       "</table>\n",
       "</div>"
      ],
      "text/plain": [
       "                              text   language\n",
       "2658                    Lark about    English\n",
       "1304                  Smart casual    English\n",
       "615                Stiff upper lip    English\n",
       "1444  Pull the wool over your eyes    English\n",
       "2552                  Jump the gun    English\n",
       "1758                    Bottle out    English\n",
       "1881     Carpe Diem: Gryp die dag!  Afrikaans\n",
       "412                  Faint-hearted    English\n",
       "155                    Rumpy-pumpy    English\n",
       "2216                 The dark side    English"
      ]
     },
     "execution_count": 5,
     "metadata": {},
     "output_type": "execute_result"
    }
   ],
   "source": [
    "# show the random 10 samples from the data frame\n",
    "df.sample(10)"
   ]
  },
  {
   "cell_type": "code",
   "execution_count": 20,
   "metadata": {},
   "outputs": [
    {
     "data": {
      "text/plain": [
       "Text(0, 0.5, 'Number of Phrases')"
      ]
     },
     "execution_count": 20,
     "metadata": {},
     "output_type": "execute_result"
    },
    {
     "data": {
      "image/png": "[encoded data removed]",
      "text/plain": [
       "<Figure size 432x288 with 1 Axes>"
      ]
     },
     "metadata": {
      "needs_background": "light"
     },
     "output_type": "display_data"
    }
   ],
   "source": [
    "ax = df.groupby('language').count().plot.bar()\n",
    "ax.set_ylabel('Number of Phrases')"
   ]
  },
  {
   "cell_type": "markdown",
   "metadata": {},
   "source": [
    "## Looks like there is a big class imbalance "
   ]
  },
  {
   "cell_type": "markdown",
   "metadata": {},
   "source": [
    "# Data analysis and mining\n"
   ]
  },
  {
   "cell_type": "code",
   "execution_count": 7,
   "metadata": {
    "collapsed": false,
    "jupyter": {
     "outputs_hidden": false
    }
   },
   "outputs": [
    {
     "data": {
      "text/html": [
       "<div>\n",
       "<style scoped>\n",
       "    .dataframe tbody tr th:only-of-type {\n",
       "        vertical-align: middle;\n",
       "    }\n",
       "\n",
       "    .dataframe tbody tr th {\n",
       "        vertical-align: top;\n",
       "    }\n",
       "\n",
       "    .dataframe thead th {\n",
       "        text-align: right;\n",
       "    }\n",
       "</style>\n",
       "<table border=\"1\" class=\"dataframe\">\n",
       "  <thead>\n",
       "    <tr style=\"text-align: right;\">\n",
       "      <th></th>\n",
       "      <th>text</th>\n",
       "      <th>language</th>\n",
       "    </tr>\n",
       "  </thead>\n",
       "  <tbody>\n",
       "    <tr>\n",
       "      <th>count</th>\n",
       "      <td>2761</td>\n",
       "      <td>2761</td>\n",
       "    </tr>\n",
       "    <tr>\n",
       "      <th>unique</th>\n",
       "      <td>2752</td>\n",
       "      <td>3</td>\n",
       "    </tr>\n",
       "    <tr>\n",
       "      <th>top</th>\n",
       "      <td>For all intents and purposes</td>\n",
       "      <td>English</td>\n",
       "    </tr>\n",
       "    <tr>\n",
       "      <th>freq</th>\n",
       "      <td>2</td>\n",
       "      <td>2055</td>\n",
       "    </tr>\n",
       "  </tbody>\n",
       "</table>\n",
       "</div>"
      ],
      "text/plain": [
       "                                text language\n",
       "count                           2761     2761\n",
       "unique                          2752        3\n",
       "top     For all intents and purposes  English\n",
       "freq                               2     2055"
      ]
     },
     "execution_count": 7,
     "metadata": {},
     "output_type": "execute_result"
    }
   ],
   "source": [
    "# see a quick summary of the data\n",
    "df.describe()"
   ]
  },
  {
   "cell_type": "markdown",
   "metadata": {},
   "source": [
    "### Clean up the text:"
   ]
  },
  {
   "cell_type": "code",
   "execution_count": 8,
   "metadata": {},
   "outputs": [],
   "source": [
    "def to_lowercase(words):\n",
    "    \"\"\"Convert all characters to lowercase from list of tokenized words\"\"\"\n",
    "    new_words = []\n",
    "    for word in words:\n",
    "        new_word = word.lower()\n",
    "        new_words.append(new_word)\n",
    "    return new_words\n",
    "\n",
    "def remove_punctuation(words):\n",
    "    \"\"\"Remove punctuation from list of tokenized words\"\"\"\n",
    "    new_words = []\n",
    "    for word in words:\n",
    "        new_word = re.sub(r'[^\\w\\s]', '', word)\n",
    "        if new_word != '':\n",
    "            new_words.append(new_word)\n",
    "    return new_words\n",
    "\n",
    "def replace_numbers(words):\n",
    "    \"\"\"Replace all interger occurrences in list of tokenized words with textual representation\"\"\"\n",
    "    p = inflect.engine()\n",
    "    new_words = []\n",
    "    for word in words:\n",
    "        if word.isdigit():\n",
    "            new_word = p.number_to_words(word)\n",
    "            new_words.append(new_word)\n",
    "        else:\n",
    "            new_words.append(word)\n",
    "    return new_words\n",
    "\n",
    "def remove_stopwords(words):\n",
    "    \"\"\"Remove stop words from list of tokenized words\"\"\"\n",
    "    new_words = []\n",
    "    for word in words:\n",
    "        if word not in stopwords.words('english'):\n",
    "            new_words.append(word)\n",
    "    return new_words\n",
    "\n",
    "def stem_words(words, language='english'):\n",
    "    \"\"\"Stem words in list of tokenized words\"\"\"\n",
    "    stemmer = SnowballStemmer(language)\n",
    "    stems = []\n",
    "    for word in words:\n",
    "        stem = stemmer.stem(word)\n",
    "        stems.append(stem)\n",
    "    return stems\n",
    "\n",
    "def lemmatize_verbs(words):\n",
    "    \"\"\"Lemmatize verbs in list of tokenized words\"\"\"\n",
    "    lemmatizer = WordNetLemmatizer()\n",
    "    lemmas = []\n",
    "    for word in words:\n",
    "        lemma = lemmatizer.lemmatize(word, pos='v')\n",
    "        lemmas.append(lemma)\n",
    "    return lemmas\n",
    "\n",
    "def normalize(words,language='english'):\n",
    "    \"\"\" Run all cleaning steps\"\"\"\n",
    "    words = to_lowercase(words)\n",
    "    words = remove_punctuation(words)\n",
    "    words = replace_numbers(words)\n",
    "    words = remove_stopwords(words)\n",
    "    words = stem_words(words, language)\n",
    "    return words"
   ]
  },
  {
   "cell_type": "code",
   "execution_count": 9,
   "metadata": {},
   "outputs": [],
   "source": [
    "df_clean = df.text.str.split(' ').apply(normalize).apply(lambda s: ' '.join(s))"
   ]
  },
  {
   "cell_type": "code",
   "execution_count": 10,
   "metadata": {},
   "outputs": [
    {
     "name": "stdout",
     "output_type": "stream",
     "text": [
      "['1500s', '1ste', 'a1', 'aa', 'aagg', 'aalwyn', 'aalwynpil', 'aan', 'aanbod', 'aanbrandsel', 'aandkla', 'aandui', 'aangenam', 'aangesigt', 'aangewaai', 'aanja', 'aankom', 'aankweek', 'aanlê', 'aanpasbaarheid', 'aansien', 'aansit', 'aanslag', 'aanspreek', 'aantrekken', 'aanvraag', 'aap', 'aard', 'aartappel', 'aasdieromslagtigheid', 'aback', 'abandon', 'abet', 'abid', 'abl', 'abracadabra', 'absenc', 'absent', 'absolut', 'absorb', 'accid', 'accident', 'accompli', 'accord', 'ace', 'achiev', 'achill', 'achterklap', 'acid', 'acorn', 'acquaint', 'acronym', 'across', 'act', 'action', 'adam', 'ado', 'adr', 'af', 'afbreek', 'afdraand', 'afhaal', 'afkam', 'afklim', 'afklink', 'afkophoend', 'afoot', 'afpoeier', 'afpraat', 'afraid', 'afsaal', 'afternoon', 'aftre', 'aga', 'age', 'agenda', 'agi', 'agog', 'agre', 'agter', 'agterbeen', 'agterdeur', 'agterdeursuip', 'agterlaat', 'agterpot', 'agterstevoor', 'agteruitgaan', 'aid', 'aidemémoir', 'aint', 'air', 'akimbo', 'akker', 'al', 'ala', 'albatross', 'ale', 'ali', 'alik', 'aliv', 'all', 'allan', 'alleen', 'alleman', 'allemansvriend', 'alley', 'almal', 'almanakk', 'alon', 'alt', 'altar', 'alter', 'altern', 'alternatief', 'altyd', 'alway', 'ambagt', 'amber', 'amok', 'amus', 'anchor', 'ander', 'andr', 'angel', 'anger', 'angri', 'anker', 'ankl', 'ann', 'annus', 'anoth', 'answer', 'ant', 'antwoord', 'ape', 'api', 'apologi', 'appetit', 'appl', 'applecart', 'april', 'ar', 'arend', 'argument', 'ark', 'arm', 'armbeur', 'armi', 'armoed', 'armour', 'around', 'arriv', 'ars', 'art', 'artikel', 'artyfarti', 'asap', 'asem', 'ash', 'ask', 'asleep', 'asof', 'ass', 'associ', 'asund', 'atishoo', 'attend', 'attitud', 'auld', 'aunt', 'away', 'aweigh', 'axe', 'ay', 'baa', 'baadji', 'baard', 'baart', 'babatji', 'babe', 'babi', 'back', 'backroom', 'backseat', 'backward', 'bacon', 'bad', 'badger', 'bag', 'baggag', 'baie', 'bait', 'bak', 'baker', 'bakki', 'bal', 'balanc', 'bald', 'bale', 'ball', 'balloon', 'ballsup', 'band', 'bandi', 'bandwagon', 'bane', 'bang', 'bangoog', 'bank', 'bankrot', 'baptism', 'bar', 'bargepol', 'bark', 'barrel', 'bash', 'basi', 'basic', 'basket', 'bastard', 'bat', 'bate', 'bathwat', 'batten', 'batteri', 'battl', 'bay', 'beam', 'bean', 'bear', 'beast', 'beat', 'beauti', 'beck', 'bed', 'bederf', 'bedfellow', 'bedfordshir', 'bedpost', 'bedriegt', 'bee', 'beef', 'beeld', 'beelin', 'beelzebub', 'beer', 'beest', 'beetlebrow', 'beg', 'begaan', 'begeer', 'beggar', 'begin', 'beginsel', 'begint', 'begonnen', 'begrafni', 'behalw', 'behandel', 'beheersug', 'behind', 'behoeftig', 'behold', 'bek', 'bekend', 'bekenklous', 'bekwaamheid', 'bekwam', 'belang', 'belangrikst', 'belangrist', 'belast', 'beleefdheid', 'belet', 'belfri', 'belief', 'bell', 'beloer', 'beloof', 'beloon', 'belt', 'belê', 'bene', 'beni', 'bennett', 'bent', 'beoefen', 'beoordeel', 'beperk', 'beplan', 'bereikbaar', 'berg', 'bergi', 'bergplaa', 'beroep', 'berri', 'berserk', 'berth', 'besemstok', 'besig', 'besit', 'besitt', 'beskadig', 'beskerm', 'beskryf', 'beskryw', 'besluit', 'bespreek', 'best', 'bet', 'betaal', 'beteken', 'beter', 'betid', 'betrap', 'betsi', 'better', 'beursi', 'bevind', 'bewaar', 'bewandel', 'bewar', 'bewerk', 'bewi', 'bewierook', 'beyond', 'bezint', 'bib', 'bibl', 'biblic', 'bicycl', 'bid', 'bieg', 'biesiepol', 'bietji', 'bietjiesbietji', 'big', 'bigger', 'bill', 'billi', 'billyo', 'biltong', 'bing', 'binn', 'binneleisel', 'binnevet', 'bird', 'birdi', 'bit', 'bite', 'biter', 'bitter', 'blaa', 'blaadji', 'blaar', 'blaartji', 'black', 'blackonblack', 'blaf', 'blake', 'blanch', 'blank', 'blanket', 'blare', 'blast', 'blaze', 'blerri', 'bleu', 'bli', 'blikki', 'blikner', 'blimey', 'blind', 'blindederm', 'blingbl', 'blink', 'blinkt', 'blister', 'blo', 'block', 'blomtyd', 'blond', 'blood', 'bloodymind', 'bloom', 'bloot', 'blot', 'blou', 'bloust', 'blow', 'blown', 'blue', 'blueplat', 'blymoedigheid', 'bmw', 'bo', 'board', 'boat', 'bob', 'bobbejaanstuip', 'bobtail', 'bode', 'bodem', 'bodi', 'bodic', 'bodkin', 'boek', 'boer', 'boeregewoont', 'boerneef', 'bog', 'bognor', 'boil', 'boiler', 'bok', 'bokk', 'bokkom', 'bokondersteun', 'bokveld', 'bokwa', 'bokwagt', 'boland', 'bold', 'bollock', 'bolt', 'bombshel', 'bome', 'bone', 'bonker', 'bonnet', 'bont', 'boobi', 'boog', 'boogiewoogi', 'book', 'boom', 'boomer', 'booor', 'boordji', 'boos', 'boot', 'bootstrap', 'booz', 'boplaa', 'born', 'borrel', 'borrow', 'bose', 'boss', 'bottel', 'botteltji', 'botter', 'bottl', 'bottom', 'bottomup', 'bou', 'boud', 'bought', 'bounc', 'bow', 'bowel', 'bowl', 'box', 'boxseat', 'boy', 'braai', 'brace', 'brain', 'brand', 'brandewyn', 'brandhout', 'brass', 'breach', 'bread', 'break', 'breakfast', 'breast', 'breath', 'breech', 'breek', 'breinkind', 'brekfi', 'brevi', 'brick', 'brief', 'briek', 'briew', 'bril', 'bring', 'bristol', 'britannia', 'broad', 'broeimasjien', 'broeishennetjiemani', 'broek', 'broer', 'broke', 'brood', 'broodt', 'brook', 'brother', 'brown', 'browni', 'bruikbaar', 'brummagem', 'brush', 'brute', 'brutish', 'brûe', 'bubbl', 'buck', 'bucket', 'buckl', 'bud', 'buff', 'bug', 'bugger', 'buggin', 'buig', 'build', 'built', 'buiten', 'bull', 'bullet', 'bum', 'bump', 'bun', 'bunch', 'bunk', 'bunni', 'bure', 'burger', 'buri', 'burn', 'burton', 'bus', 'bush', 'busi', 'butcher', 'butt', 'butter', 'butterfing', 'button', 'buurman', 'buurmansgek', 'bydra', 'bye', 'bygon', 'bylieg', 'bymekaar', 'byne', 'byt', 'caboodl', 'cadenza', 'cain', 'cake', 'cakehol', 'call', 'came', 'camera', 'candi', 'candl', 'cannon', 'cannot', 'cano', 'cant', 'canteen', 'canyon', 'cap', 'captain', 'car', 'carbon', 'carboncopi', 'card', 'cardsharp', 'carey', 'carp', 'carri', 'cart', 'case', 'cash', 'cast', 'castl', 'casual', 'cat', 'catbird', 'catch', 'cathol', 'caught', 'ceil', 'celest', 'cent', 'certain', 'chain', 'chais', 'chalk', 'champ', 'chanc', 'chang', 'channel', 'chantel', 'charley', 'charm', 'chase', 'cheap', 'cheapskat', 'cheek', 'chees', 'cherchez', 'cheshir', 'chestnut', 'chew', 'chick', 'chicken', 'child', 'children', 'chin', 'china', 'chines', 'chinless', 'chip', 'chitchat', 'chockablock', 'choic', 'choir', 'chooser', 'chop', 'chopchop', 'chosen', 'chow', 'chris', 'christma', 'cigar', 'cinch', 'circl', 'citizen', 'clam', 'clapper', 'clappi', 'claw', 'clean', 'cleans', 'clear', 'cleft', 'click', 'client', 'cliffhang', 'climb', 'cloak', 'clock', 'clodhopp', 'clog', 'close', 'closet', 'cloth', 'clotheslin', 'cloud', 'clout', 'club', 'clue', 'clutch', 'cm', 'coal', 'cobbler', 'cock', 'cockahoop', 'cockney', 'cocksur', 'cockup', 'codger', 'codswallop', 'cogito', 'coil', 'coin', 'cold', 'collywobbl', 'colour', 'colouredspreekwoord', 'column', 'come', 'comfort', 'common', 'compar', 'comparison', 'compass', 'complet', 'conclus', 'condit', 'content', 'cook', 'cooki', 'cool', 'coot', 'cop', 'copperbottom', 'cor', 'cordon', 'corner', 'correct', 'corrupt', 'cost', 'cotton', 'cottonpick', 'couldnt', 'count', 'counten', 'counter', 'countri', 'countrymen', 'courag', 'cours', 'court', 'coventri', 'cow', 'cox', 'crack', 'crackpot', 'cradl', 'crapper', 'craven', 'creek', 'crew', 'cri', 'crocodil', 'crook', 'crop', 'cropper', 'cross', 'crow', 'crowd', 'crown', 'cruis', 'crunch', 'crust', 'cube', 'cuckoo', 'cucumb', 'cud', 'culpa', 'cultur', 'cup', 'curat', 'curios', 'curri', 'curs', 'curtain', 'custom', 'cut', 'cute', 'cutter', 'daad', 'daai', 'daalder', 'daantji', 'daar', 'daarbi', 'daardi', 'daarin', 'daarlang', 'daarme', 'daarna', 'daaroor', 'daarop', 'daaruit', 'daarvan', 'daden', 'daft', 'dag', 'dagga', 'dagger', 'dak', 'dalk', 'dam', 'dame', 'damn', 'damp', 'damper', 'dan', 'danc', 'dander', 'danger', 'dani', 'daniel', 'dankbaar', 'dansen', 'darbi', 'dare', 'darem', 'dark', 'darkest', 'darl', 'dash', 'dassi', 'dat', 'date', 'davi', 'dawid', 'dawn', 'day', 'daylight', 'de', 'dead', 'dear', 'death', 'deck', 'declar', 'deel', 'deeltji', 'deep', 'definitiew', 'degre', 'dek', 'deliv', 'delus', 'delven', 'delwersdonki', 'den', 'derbi', 'derdemannetji', 'derhalw', 'derm', 'dermwerk', 'derringdo', 'dertien', 'dertig', 'desert', 'design', 'deug', 'deugd', 'deur', 'deurbr', 'deus', 'devil', 'diamant', 'diamond', 'dice', 'dicken', 'dickybird', 'diddl', 'die', 'dief', 'diehard', 'diem', 'dien', 'dienst', 'diep', 'dieper', 'dieselfd', 'diew', 'differ', 'dig', 'dik', 'dikker', 'dikmelk', 'dikwel', 'ding', 'dingetji', 'dink', 'dinner', 'dint', 'dip', 'dirt', 'dis', 'disagre', 'disbelief', 'discont', 'dish', 'distanc', 'dit', 'divid', 'dié', 'doc', 'dock', 'doctor', 'dodo', 'doellos', 'doelwit', 'doen', 'doer', 'doesnt', 'doet', 'doff', 'dog', 'doghous', 'dogter', 'dokter', 'dolal', 'dolc', 'doldrum', 'dole', 'dollar', 'dolliwari', 'dom', 'donderw', 'done', 'donker', 'donkerst', 'donkey', 'donki', 'dont', 'donut', 'dood', 'doodgaan', 'doodki', 'doodpraat', 'doodskle', 'dooi', 'dooie', 'dooierus', 'dool', 'doom', 'doopseel', 'door', 'doornail', 'dop', 'dopsak', 'doringbo', 'doringpeul', 'doringskof', 'dormant', 'dorsvloer', 'dot', 'doubl', 'doww', 'dozen', 'dra', 'draai', 'drag', 'drain', 'drake', 'draw', 'drawer', 'drawn', 'dream', 'dress', 'dri', 'drieslaapkam', 'drieverdiep', 'driewiel', 'drink', 'drive', 'driven', 'driver', 'drome', 'dronk', 'droogt', 'droom', 'drop', 'dropdead', 'droëpram', 'druiw', 'druiwekar', 'druiwestokk', 'druiwetro', 'druk', 'drum', 'drumpel', 'druppel', 'druther', 'dubbeldoor', 'duck', 'due', 'duff', 'duidelik', 'duim', 'duit', 'duiw', 'duiwel', 'duke', 'dump', 'dun', 'durch', 'dust', 'dutch', 'duur', 'duurt', 'duvet', 'dwaa', 'dwaal', 'dwarsdeur', 'dwing', 'ear', 'earl', 'earli', 'earmark', 'earn', 'earth', 'easi', 'eat', 'eaten', 'econom', 'edg', 'edgeway', 'edward', 'een', 'eend', 'eendvoël', 'eeni', 'eer', 'eerder', 'eerlijkheid', 'eerlik', 'eerst', 'eet', 'egg', 'ego', 'ei', 'eie', 'eienskap', 'eier', 'eigen', 'eight', 'eighti', 'eind', 'ek', 'ekn', 'ekskuus', 'elbowgreas', 'elementari', 'eleph', 'elk', 'ellend', 'elvi', 'em', 'emmer', 'empir', 'en', 'end', 'engel', 'england', 'englishman', 'enig', 'enigiet', 'enigma', 'enigst', 'enkel', 'enough', 'enter', 'enthral', 'envelop', 'erf', 'ergo', 'erken', 'ertji', 'et', 'ethnic', 'etymolog', 'eva', 'even', 'ever', 'everi', 'everybodi', 'everyth', 'evil', 'ewig', 'ex', 'exceed', 'except', 'excus', 'experi', 'extraordinari', 'eye', 'eyebal', 'face', 'faff', 'faintheart', 'fair', 'fairi', 'fait', 'faith', 'fall', 'fallaci', 'fallen', 'fame', 'famili', 'famous', 'fan', 'fanci', 'fanni', 'fantast', 'far', 'farm', 'farmer', 'fashion', 'fast', 'fat', 'fate', 'father', 'fathom', 'fatigu', 'favour', 'fear', 'feast', 'feather', 'fed', 'feed', 'feet', 'fell', 'fellow', 'femal', 'femm', 'fenc', 'fiction', 'fiddl', 'fie', 'field', 'fiet', 'fifteen', 'fifth', 'fight', 'file', 'filthi', 'finagl', 'final', 'find', 'fine', 'finger', 'finn', 'fire', 'first', 'fish', 'fist', 'fit', 'fittest', 'five', 'fix', 'fixerupp', 'flame', 'flash', 'flat', 'flatteri', 'flavor', 'flesh', 'fli', 'flick', 'flock', 'flog', 'floozi', 'flotsam', 'flower', 'fluister', 'flute', 'flynn', 'foam', 'fob', 'foh', 'folk', 'fondament', 'fonder', 'food', 'fool', 'foot', 'footbal', 'footprint', 'forbidden', 'forc', 'forearm', 'foregon', 'forev', 'forewarn', 'forgiv', 'forlorn', 'form', 'forti', 'forward', 'foul', 'four', 'fout', 'frailti', 'fran', 'free', 'freez', 'french', 'frenzi', 'fresco', 'friday', 'friend', 'frog', 'frontier', 'fruit', 'fuddyduddi', 'full', 'fum', 'fund', 'funni', 'furi', 'fuzzi', 'gaan', 'gad', 'gadzook', 'gal', 'game', 'gang', 'gans', 'ganspen', 'garter', 'gasten', 'gat', 'gate', 'gather', 'gauntlet', 'gauteng', 'gave', 'geaap', 'gebaar', 'gebas', 'gebeent', 'gebekt', 'gebeur', 'gebli', 'geblinddoek', 'gebor', 'gebou', 'gebraaid', 'gebrek', 'gebruik', 'gebyt', 'gecollar', 'gedaan', 'gedan', 'gedek', 'gedink', 'gedoen', 'gedrink', 'gedrup', 'geduld', 'gedurig', 'gedwe', 'gee', 'geef', 'geel', 'geen', 'gefluisterd', 'gegeven', 'geheim', 'gek', 'geki', 'gekk', 'gekom', 'gekoop', 'gekri', 'gekul', 'geld', 'geldwolf', 'geleenthed', 'geleentheid', 'geleer', 'geloop', 'geloven', 'geluk', 'gelukki', 'gelyk', 'gelê', 'gemaak', 'gemak', 'gemelk', 'gemi', 'gemoedskalmt', 'gemor', 'genad', 'generat', 'genezen', 'geniet', 'genius', 'genoeg', 'genoem', 'genooi', 'gentlemen', 'geoe', 'geoli', 'georg', 'geploeg', 'geraak', 'gereeld', 'gereent', 'geregtelik', 'geri', 'geronnen', 'gert', 'gesaai', 'gesang', 'gesant', 'geschoten', 'gesig', 'gesit', 'geskeer', 'geskiet', 'geskottel', 'geskraap', 'geskreeu', 'geslaap', 'gesond', 'gesondheid', 'gesout', 'gespan', 'gespoor', 'gestewel', 'gestook', 'gesê', 'get', 'getall', 'getap', 'getgothav', 'geti', 'getik', 'getjoingtjo', 'getrap', 'getrek', 'getroud', 'getuieni', 'geur', 'geurtji', 'geval', 'gevat', 'geverf', 'gewa', 'gewaarschuwd', 'gewe', 'geweld', 'geweldbreek', 'gewet', 'geweten', 'gewi', 'gewildst', 'gewonnen', 'gewoont', 'geword', 'gezegd', 'ghost', 'giant', 'giddi', 'gierig', 'gierigheid', 'gif', 'gift', 'gij', 'gild', 'gilt', 'gin', 'ginger', 'gingerbread', 'gipper', 'gister', 'gisteraand', 'give', 'given', 'giver', 'gladd', 'glass', 'glister', 'glitter', 'gloom', 'glove', 'gn', 'go', 'goalpost', 'goat', 'god', 'godfrey', 'goe', 'goedkoop', 'goedkop', 'goedpraat', 'goeie', 'goewerneur', 'gofast', 'gold', 'golden', 'golf', 'gone', 'gonnakolk', 'good', 'goodi', 'goodnight', 'gooi', 'goos', 'gordon', 'gordyn', 'gorgeous', 'got', 'gou', 'goud', 'goudpot', 'goue', 'gouer', 'graad', 'graaf', 'graag', 'grace', 'graci', 'grain', 'gramadoela', 'grand', 'grandeur', 'grandfath', 'grandma', 'grandmoth', 'granni', 'grap', 'grape', 'grapevin', 'gras', 'grasp', 'grass', 'grati', 'grave', 'graveyard', 'greas', 'great', 'greek', 'green', 'gregori', 'greyhound', 'gri', 'gridlock', 'griek', 'grietji', 'grin', 'grind', 'grindston', 'grist', 'groei', 'groen', 'groenvoer', 'groet', 'grond', 'gronden', 'grondvloer', 'groot', 'grootman', 'grootmens', 'grootpad', 'grootst', 'grootsê', 'groottoon', 'grote', 'groter', 'grou', 'ground', 'grow', 'gryp', 'guest', 'guilti', 'guinea', 'gum', 'gumdrop', 'gun', 'gung', 'gunwal', 'gussiedup', 'gut', 'guy', 'haa', 'haaivlakt', 'haal', 'haan', 'haar', 'haard', 'haastig', 'haat', 'hael', 'hair', 'hairi', 'hakk', 'haksken', 'halcyon', 'halen', 'half', 'halfcock', 'halfheart', 'halfto', 'hallelujagesig', 'halt', 'halter', 'halv', 'hand', 'handbag', 'handbasket', 'handen', 'handewerk', 'handl', 'handsak', 'handsom', 'hang', 'hangen', 'hangskouer', 'hankypanki', 'hanli', 'hansi', 'happen', 'happi', 'harbing', 'hard', 'hardekoejawel', 'harder', 'hardi', 'hardloop', 'hare', 'hark', 'harmoni', 'harp', 'hart', 'hasepad', 'hast', 'hasta', 'hasti', 'hat', 'hatch', 'hatchet', 'hatter', 'havent', 'havoc', 'hawer', 'hay', 'haywir', 'head', 'heal', 'healthi', 'hear', 'heard', 'heart', 'heat', 'heaven', 'heavi', 'hebben', 'hebt', 'hedg', 'heebiejeebi', 'heel', 'heeldag', 'heer', 'heet', 'heever', 'heir', 'hel', 'hele', 'hell', 'help', 'helper', 'helterskelt', 'hem', 'hemel', 'hempi', 'hen', 'henn', 'henna', 'henri', 'herder', 'herhaaldelik', 'herman', 'herring', 'het', 'heun', 'hide', 'hie', 'hier', 'high', 'highflyer', 'hij', 'hill', 'hindmost', 'hindranc', 'hingst', 'hip', 'hissi', 'histori', 'hit', 'hither', 'ho', 'hobbyhors', 'hobson', 'hocus', 'hoe', 'hoek', 'hoeki', 'hoekom', 'hoender', 'hoeveel', 'hog', 'hoi', 'hoist', 'hoityto', 'hol', 'hold', 'hole', 'holrug', 'holt', 'hom', 'home', 'homonym', 'homself', 'hond', 'honden', 'honesti', 'honger', 'honour', 'hoof', 'hoofd', 'hoofman', 'hoog', 'hoogst', 'hoogt', 'hooi', 'hooimi', 'hook', 'hoop', 'hoor', 'hooray', 'hoort', 'hope', 'horatio', 'hore', 'horlosi', 'horn', 'horner', 'horribili', 'hors', 'hospitaalko', 'hot', 'hotblood', 'hou', 'houd', 'hour', 'hous', 'household', 'houston', 'hoveel', 'hoyl', 'hoër', 'httpgooglsddnq', 'huggermugg', 'hui', 'huid', 'huidig', 'huil', 'huisarr', 'huisvrou', 'hul', 'hull', 'human', 'humbl', 'humeur', 'humor', 'hung', 'hunkydori', 'hunt', 'husband', 'hush', 'huwelik', 'hy', 'hyt', 'hê', 'ice', 'ide', 'ident', 'identifis', 'idl', 'ieder', 'iemand', 'iet', 'ijzer', 'ik', 'ill', 'im', 'imag', 'imit', 'immer', 'inarticul', 'incarn', 'inch', 'includ', 'inde', 'indian', 'indruk', 'infinit', 'infra', 'ingat', 'ingestuur', 'inhalig', 'inhuman', 'inkl', 'inkoejawel', 'inkokkewiet', 'inkom', 'inkomst', 'inkruip', 'inkyk', 'innerlik', 'inni', 'innoc', 'insid', 'inspir', 'intent', 'interest', 'internetsurf', 'invent', 'iron', 'island', 'itch', 'ivori', 'jaag', 'jack', 'jacob', 'jacuzzi', 'jam', 'jame', 'jammerd', 'jan', 'janni', 'jans', 'japi', 'jas', 'jaw', 'jazzvoet', 'je', 'jeff', 'jerri', 'jest', 'jetblack', 'jetsam', 'jeuk', 'jib', 'jimmi', 'joan', 'job', 'johann', 'johnni', 'join', 'joint', 'jone', 'jones', 'jong', 'jonk', 'jor', 'jose', 'josephin', 'jot', 'jou', 'jouself', 'joy', 'judgement', 'julius', 'jull', 'jumbo', 'jump', 'june', 'juri', 'justic', 'jy', 'jyself', 'kaa', 'kaalvoorlyf', 'kaap', 'kaart', 'kaatst', 'kaf', 'kaia', 'kakkerlak', 'kalant', 'kale', 'kalkoen', 'kalmt', 'kalwerhok', 'kamel', 'kamp', 'kampsbaai', 'kan', 'kangaroo', 'kant', 'kanteldronk', 'kantoor', 'kantvoorspel', 'kapita', 'kaplak', 'kapoevaproppi', 'kar', 'karakt', 'kasteroliebottel', 'kat', 'kati', 'katt', 'kedoem', 'keen', 'keep', 'keepyuppi', 'keer', 'kekkel', 'ken', 'kenni', 'ker', 'kerkmui', 'kerm', 'kerrieko', 'ket', 'ketel', 'kettl', 'key', 'khyber', 'kick', 'kickin', 'kid', 'kie', 'kiepkop', 'kieri', 'kijken', 'kill', 'kilroy', 'kind', 'kinder', 'kindertji', 'king', 'kingdom', 'kip', 'kiss', 'kit', 'kitaar', 'kitchen', 'kk', 'klaa', 'klaar', 'klad', 'klap', 'klas', 'klein', 'kleindag', 'kleinigheid', 'kleinst', 'kleur', 'kleurblind', 'klik', 'klim', 'klip', 'klipsteenhard', 'kloek', 'klomp', 'km', 'knak', 'knee', 'kneejerk', 'kneg', 'knew', 'knickknack', 'knight', 'knipmesom', 'knock', 'knocker', 'knor', 'knot', 'know', 'knowledg', 'knuckl', 'knyp', 'koei', 'koeien', 'koek', 'koeki', 'koerland', 'koffi', 'koggel', 'koingnaa', 'kole', 'kollekt', 'kom', 'komedi', 'kompak', 'komt', 'kon', 'kone', 'koo', 'kookwat', 'koop', 'kop', 'koper', 'koponderdievlerk', 'koppi', 'kopvel', 'kore', 'koringkorrel', 'korrel', 'korrelasi', 'korreltji', 'korsi', 'kort', 'korter', 'kos', 'kou', 'koud', 'kouer', 'kowtow', 'kraai', 'kraak', 'krag', 'krap', 'kreeftegang', 'kreuken', 'kri', 'kritiek', 'kroegtoonbank', 'krom', 'kronkelpaai', 'kroon', 'krui', 'kruip', 'kruipknietji', 'kuier', 'kuiken', 'kun', 'kunst', 'kuss', 'kwaad', 'kwaadgeld', 'kwaadpraat', 'kwaaikind', 'kwyl', 'kwyt', 'kyk', 'kêrel', 'la', 'laaiti', 'laast', 'laat', 'laatst', 'labour', 'lacht', 'lackadais', 'lad', 'ladi', 'ladida', 'lafaard', 'lag', 'lager', 'laid', 'lala', 'lamb', 'lame', 'lamrugbygroef', 'land', 'landbou', 'landboukultuur', 'landscap', 'lanferlap', 'lang', 'langnekkaatji', 'langor', 'langst', 'langtermyn', 'lank', 'lankrek', 'lardydardi', 'larg', 'lark', 'larri', 'las', 'last', 'late', 'later', 'latin', 'latjiesbeen', 'laugh', 'laughingstock', 'launch', 'laurel', 'lavend', 'law', 'lawaaiwa', 'lawyer', 'lay', 'lea', 'lead', 'leadpip', 'leaf', 'leap', 'learn', 'leash', 'least', 'leav', 'led', 'ledigheid', 'lee', 'leef', 'leeftyd', 'leer', 'leervermoë', 'leesvermoë', 'left', 'leg', 'lege', 'legend', 'lei', 'leiden', 'leisur', 'lekker', 'lekkerdoen', 'lekkerkri', 'lend', 'lender', 'leopard', 'leren', 'less', 'let', 'letji', 'letter', 'leunstoel', 'level', 'lew', 'lewenspad', 'lewensuitkyk', 'leë', 'licht', 'lick', 'licketysplit', 'lickin', 'liddor', 'lie', 'lief', 'liefd', 'liefkri', 'lieg', 'liewer', 'life', 'lifetim', 'lig', 'liggi', 'light', 'lightn', 'ligter', 'like', 'lili', 'limb', 'limbo', 'limelight', 'limit', 'line', 'link', 'lion', 'lip', 'list', 'littl', 'live', 'lloyd', 'lo', 'load', 'loaf', 'local', 'lock', 'locker', 'loggerhead', 'loin', 'londen', 'long', 'longa', 'longest', 'look', 'loon', 'loont', 'loop', 'loopneusda', 'loos', 'lorri', 'los', 'lose', 'losklo', 'lost', 'lot', 'loud', 'loung', 'love', 'lovedup', 'lover', 'low', 'lucht', 'luck', 'lucki', 'lug', 'lui', 'luiaard', 'lump', 'lunch', 'lurch', 'lus', 'luuks', 'ly', 'lyk', 'lyric', 'lê', 'lêtiep', 'lödveteig', 'maacht', 'maag', 'maak', 'maakt', 'maalt', 'maandag', 'maar', 'maat', 'machina', 'mad', 'maer', 'mag', 'magic', 'maiden', 'main', 'make', 'maken', 'makkelijk', 'maklik', 'maklikst', 'mal', 'male', 'man', 'manger', 'mani', 'manier', 'mankind', 'mann', 'manner', 'mannetji', 'manshoogt', 'mansion', 'mantel', 'marbl', 'march', 'mare', 'mareshank', 'marin', 'marit', 'market', 'marri', 'mas', 'masel', 'mast', 'master', 'mate', 'matigheid', 'matter', 'mattress', 'mawe', 'may', 'mbeki', 'mccoy', 'mea', 'meal', 'measur', 'meat', 'medemen', 'mediocr', 'medisyn', 'mee', 'meel', 'meeni', 'meer', 'meerder', 'meest', 'meet', 'meisi', 'mekaar', 'melk', 'melkkoffi', 'mellow', 'melt', 'men', 'mend', 'meneer', 'mens', 'menselijk', 'mensi', 'mer', 'merri', 'met', 'metal', 'method', 'methuselah', 'mettl', 'metusalem', 'meul', 'mexican', 'mice', 'mickey', 'mickl', 'middl', 'midnight', 'midstream', 'mieliestamp', 'mier', 'miern', 'might', 'mighti', 'mightier', 'mikro', 'mile', 'miljoen', 'milk', 'mill', 'min', 'minc', 'mind', 'minder', 'mini', 'minist', 'minni', 'minut', 'minuut', 'mirror', 'mis', 'misdaad', 'miseri', 'mishoop', 'misken', 'misquot', 'miss', 'misstof', 'mist', 'mix', 'mo', 'moan', 'mocker', 'modder', 'mode', 'moedswillig', 'moedverloor', 'moeg', 'moeilijk', 'moeilik', 'moeilikheid', 'moeilikst', 'moeni', 'moer', 'moerland', 'moet', 'mojo', 'mol', 'mond', 'mondegreen', 'monden', 'money', 'monkey', 'monster', 'montezuma', 'month', 'monti', 'mooi', 'mooiweer', 'moon', 'moontlik', 'moot', 'moray', 'morbid', 'morn', 'mortal', 'mos', 'moss', 'mossi', 'moth', 'mother', 'motley', 'mountain', 'mouth', 'mouthwat', 'move', 'moveabl', 'mover', 'much', 'muck', 'mud', 'muggi', 'muhammad', 'mui', 'muishond', 'muizen', 'multitud', 'mum', 'mumbo', 'muren', 'murgatroyd', 'murphi', 'music', 'muskiet', 'must', 'mustard', 'mutt', 'mutton', 'myth', 'ménage', 'môre', 'na', 'naa', 'naald', 'naar', 'nadeel', 'nag', 'nail', 'namakwaland', 'nambypambi', 'name', 'nan', 'napaadji', 'narrow', 'nasi', 'nasti', 'nat', 'nation', 'natpiepi', 'natuur', 'natuurskoon', 'nautic', 'naweek', 'naweeklyfi', 'nbietji', 'necess', 'neck', 'nectar', 'need', 'neem', 'neemt', 'neer', 'neither', 'nell', 'nelli', 'nemen', 'nere', 'nes', 'nest', 'nestegg', 'net', 'netji', 'netnou', 'netsurf', 'nettl', 'neus', 'never', 'nevernev', 'new', 'newcastl', 'newgat', 'newt', 'nice', 'nick', 'nickel', 'nie', 'nieen', 'niemand', 'niemandsvriend', 'nier', 'niet', 'nieuw', 'niggerbal', 'night', 'nik', 'niksdoen', 'nilli', 'nin', 'nine', 'ninep', 'nineti', 'ninety', 'nip', 'nittygritti', 'noag', 'nobrain', 'nod', 'nodig', 'nog', 'none', 'nonsens', 'nooit', 'noot', 'norang', 'nose', 'nosi', 'notch', 'note', 'noth', 'nou', 'nous', 'nth', 'nul', 'nut', 'nuttig', 'nuuskierig', 'nuw', 'oak', 'oath', 'obes', 'observ', 'ocean', 'oclock', 'odd', 'odious', 'oe', 'oefen', 'of', 'offens', 'offer', 'oggend', 'oh', 'oil', 'ointment', 'okay', 'okeydokey', 'old', 'olif', 'om', 'omdat', 'omstamp', 'on', 'onbeskof', 'onder', 'onderdeur', 'ondermyn', 'onderskat', 'ondersoek', 'onderst', 'onderwerp', 'ondeug', 'one', 'onehit', 'ongeag', 'ongeluk', 'ongelukk', 'ongelukkig', 'ongeslypt', 'ongevoelig', 'onion', 'onmisbaar', 'ononderhandelbaar', 'onsienlik', 'onskuldig', 'ontdek', 'onthou', 'ontlont', 'ontmoet', 'ontwyk', 'onweerswolk', 'oog', 'oogsten', 'ooit', 'ook', 'ookal', 'oom', 'oomblik', 'oop', 'oophou', 'oopsadaisi', 'oor', 'oorbl', 'oorhaastig', 'oorhou', 'oorkook', 'oorkuss', 'oorpak', 'oorskri', 'oortji', 'oortuig', 'op', 'opbou', 'open', 'openbaar', 'opera', 'opgedreun', 'ophou', 'opium', 'opkoffi', 'oplew', 'oploss', 'oppervlakt', 'opraak', 'opregt', 'opsit', 'opstaan', 'opsykind', 'order', 'ore', 'oren', 'oros', 'oss', 'other', 'ou', 'oud', 'ouen', 'ouer', 'ouma', 'oupa', 'oupagrootji', 'outbail', 'outsid', 'oven', 'overcoat', 'overlopen', 'overpaid', 'oversex', 'owl', 'oxford', 'oxo', 'oë', 'pa', 'paaie', 'paar', 'paard', 'pace', 'pack', 'packdril', 'pad', 'padda', 'paddl', 'pafpaf', 'paid', 'paint', 'pair', 'palanc', 'pale', 'pan', 'pangpang', 'panic', 'pant', 'pap', 'paper', 'papier', 'pappot', 'paradis', 'parasiet', 'parker', 'parlement', 'parsnip', 'part', 'parthian', 'pas', 'pasop', 'pass', 'past', 'patat', 'patch', 'path', 'paul', 'pay', 'pdq', 'pea', 'pear', 'pearl', 'peck', 'pecker', 'peep', 'peg', 'pellmel', 'pen', 'penni', 'peopl', 'peper', 'pepsod', 'per', 'percent', 'perchanc', 'perci', 'perd', 'perfeksi', 'perfekt', 'peril', 'person', 'persoonlikheid', 'perspir', 'pester', 'petard', 'peter', 'petrol', 'petti', 'phrase', 'physician', 'pick', 'pickl', 'picnic', 'pictur', 'pictureperfect', 'pie', 'piec', 'piet', 'pieter', 'pig', 'pigeon', 'pigeonchest', 'piggyback', 'pijpenstelen', 'pikstel', 'pilatus', 'pin', 'pinch', 'pink', 'pip', 'pipe', 'piss', 'pitch', 'plaa', 'place', 'plagu', 'plain', 'plank', 'plann', 'plant', 'plate', 'platsak', 'play', 'pleas', 'plek', 'plekk', 'plesier', 'plig', 'ploeg', 'plooie', 'ploughshar', 'plug', 'pluk', 'plukken', 'pocket', 'pocus', 'pod', 'poef', 'poem', 'poetic', 'point', 'pointandclick', 'pointblank', 'poke', 'pole', 'polici', 'polish', 'polit', 'politici', 'politik', 'polloi', 'pommi', 'pompi', 'pond', 'poni', 'pontius', 'poog', 'poor', 'pop', 'pope', 'popp', 'popular', 'porcelain', 'pork', 'port', 'posh', 'posi', 'possibl', 'postal', 'pot', 'potj', 'potluck', 'pound', 'pour', 'powder', 'power', 'praat', 'pramhoog', 'pray', 'prayer', 'preach', 'preposter', 'present', 'press', 'pret', 'pretti', 'price', 'prick', 'prime', 'primros', 'priori', 'prize', 'pro', 'probeer', 'problem', 'prokureur', 'promis', 'proof', 'prosper', 'prove', 'proven', 'proverb', 'prys', 'ps', 'public', 'pud', 'pull', 'punch', 'punt', 'puntj', 'puppi', 'pure', 'purpl', 'purpos', 'push', 'put', 'pyn', 'pyp', 'pyrric', 'pêrel', 'qs', 'qt', 'qualiti', 'quandari', 'quarter', 'queer', 'question', 'quick', 'quicker', 'quid', 'quo', 'quot', 'quotat', 'raa', 'raad', 'raak', 'raap', 'rabbit', 'race', 'rack', 'rag', 'rage', 'rain', 'rais', 'rammetjieuitnek', 'ranger', 'rank', 'rap', 'rape', 'raspberri', 'rat', 'rave', 'raze', 'rde', 'reaction', 'read', 'reaksi', 'real', 'realism', 'reason', 'receiv', 'record', 'red', 'rede', 'redhand', 'redupl', 'reed', 'reef', 'refin', 'refus', 'reg', 'regeer', 'regent', 'regt', 'regtig', 'regverdig', 'rein', 'rek', 'reken', 'rekenaar', 'rekenskap', 'relat', 'relationship', 'religion', 'rendit', 'renegaat', 'rensburg', 'rent', 'repent', 'reputasi', 'respek', 'respekt', 'rest', 'retreat', 'return', 'reveng', 'reêlmaat', 'reën', 'reënboog', 'rhyme', 'rich', 'richard', 'riddanc', 'riddl', 'ride', 'riel', 'riffraff', 'right', 'riley', 'rimpel', 'ring', 'ringbek', 'ringer', 'ringfenc', 'rinkink', 'rinkydink', 'riot', 'ripper', 'rise', 'river', 'riversd', 'road', 'roast', 'rob', 'robberi', 'robin', 'robinson', 'rock', 'rocket', 'rod', 'roe', 'roem', 'roer', 'roest', 'rokgo', 'rol', 'roll', 'roman', 'rome', 'romeo', 'rondheid', 'rondloop', 'rondloperhondmanier', 'rondom', 'roo', 'rooi', 'rooimier', 'rook', 'room', 'roost', 'rooy', 'rooyen', 'rope', 'rose', 'rosi', 'rot', 'rough', 'round', 'rout', 'row', 'royal', 'rub', 'rug', 'ruik', 'ruin', 'ruk', 'rule', 'rum', 'rumpypumpi', 'run', 'runner', 'runneth', 'rush', 'rustig', 'ry', 'ryk', 'ryke', 'rûen', 'saad', 'saai', 'saak', 'saam', 'saamgeneem', 'saamleef', 'saamneem', 'saamstem', 'saartji', 'sack', 'sacr', 'safe', 'saga', 'sagt', 'sail', 'sak', 'sakk', 'sal', 'salad', 'salaristjek', 'sali', 'salt', 'sam', 'samaritan', 'sambreel', 'san', 'sand', 'sandboy', 'sandwich', 'sarel', 'satan', 'savag', 'save', 'savoir', 'say', 'scarper', 'scheme', 'schijn', 'schoen', 'schoenen', 'scholar', 'schone', 'schtum', 'scienc', 'score', 'scorn', 'scot', 'scott', 'scratch', 'screw', 'screwdriv', 'scuse', 'se', 'sea', 'seal', 'season', 'seat', 'secondguess', 'secur', 'see', 'seekoei', 'seen', 'seer', 'seerder', 'segsman', 'seisoen', 'sek', 'self', 'selfmoord', 'selfrespek', 'send', 'senior', 'sens', 'sensitief', 'sent', 'separ', 'serpent', 'serv', 'servic', 'set', 'seun', 'seven', 'sevenyear', 'sew', 'sex', 'sexton', 'shadow', 'shaggi', 'shake', 'shaker', 'shakespear', 'shall', 'shalt', 'shambl', 'shame', 'shank', 'shape', 'share', 'shark', 'sharper', 'shebang', 'sheep', 'sheet', 'shelllik', 'shift', 'shillysh', 'shine', 'shinola', 'ship', 'shit', 'shiver', 'shoe', 'shoot', 'shop', 'shopkeep', 'short', 'shot', 'shotgun', 'shoulder', 'show', 'shrift', 'shuffl', 'shut', 'sick', 'side', 'sideboard', 'siek', 'siel', 'sielkundig', 'sien', 'sight', 'silenc', 'silli', 'silver', 'silwer', 'simil', 'sin', 'sincerest', 'sinew', 'sing', 'sinikus', 'sink', 'sir', 'sister', 'sit', 'six', 'sixpack', 'sjiert', 'sjor', 'skaalvlei', 'skaapkler', 'skaapwagtershand', 'skaar', 'skadu', 'skaduwe', 'skakel', 'skand', 'skandelik', 'skape', 'skapi', 'skat', 'skatt', 'skeel', 'skeleton', 'skid', 'skidoo', 'skielik', 'skiet', 'skil', 'skimp', 'skin', 'skittl', 'skoen', 'skommel', 'skoolgaan', 'skoon', 'skoot', 'skop', 'skoppenbo', 'skraap', 'skrik', 'skud', 'skuld', 'skuldig', 'sky', 'skys', 'slaag', 'slaan', 'slaap', 'slag', 'slain', 'slam', 'slang', 'slangsleepseltji', 'slap', 'slapend', 'slaughter', 'slaw', 'sledgehamm', 'sleep', 'sleev', 'sleg', 'slegst', 'slegt', 'slept', 'slim', 'slip', 'sloan', 'sloot', 'slush', 'slyp', 'small', 'smallest', 'smart', 'smeden', 'smell', 'smithereen', 'smoke', 'smooth', 'snaar', 'snapper', 'snare', 'snoek', 'snook', 'snow', 'snuff', 'snug', 'snuif', 'snye', 'soapdodg', 'sock', 'sod', 'soebat', 'soebatsfontein', 'soek', 'soen', 'soeter', 'soetmelksvlei', 'soetst', 'soft', 'solank', 'sold', 'solder', 'som', 'someon', 'someth', 'sommer', 'son', 'sond', 'sondagko', 'sonder', 'song', 'sonond', 'sonop', 'soo', 'soon', 'soort', 'sooth', 'sore', 'sorg', 'sorri', 'sorrow', 'sort', 'sou', 'soul', 'sound', 'sour', 'sout', 'spaargeld', 'spaarsaamheid', 'space', 'spade', 'span', 'spandabel', 'spank', 'spanner', 'spare', 'speak', 'speci', 'special', 'speel', 'spekul', 'spele', 'spellingbe', 'spend', 'spi', 'spick', 'spierwit', 'spiesen', 'spill', 'spin', 'spit', 'spite', 'spo', 'spoeg', 'spog', 'spoil', 'spoken', 'spook', 'spoon', 'spore', 'spot', 'spreekt', 'spreekwoord', 'spring', 'springbok', 'spruceup', 'spul', 'spyt', 'squar', 'squeak', 'squeaki', 'squib', 'staan', 'staat', 'stadig', 'stair', 'stairrod', 'stake', 'stale', 'stamp', 'stand', 'standard', 'star', 'starboard', 'starcross', 'stark', 'start', 'starv', 'statement', 'station', 'statist', 'steal', 'steam', 'steek', 'steel', 'steen', 'steke', 'stemband', 'step', 'sterf', 'sterk', 'stert', 'stick', 'sticker', 'sticki', 'stiff', 'stiffen', 'stil', 'still', 'stink', 'stinkend', 'stitch', 'stock', 'stoel', 'stom', 'stone', 'stonyheart', 'stool', 'stop', 'stopstraat', 'stori', 'storm', 'stormer', 'stout', 'straat', 'straf', 'straight', 'strain', 'strait', 'straitlac', 'strand', 'strang', 'stranger', 'straw', 'streef', 'street', 'strength', 'streska', 'strife', 'strike', 'strip', 'strong', 'stroom', 'stubbl', 'stuff', 'stuiwer', 'stukk', 'stump', 'stuur', 'succeed', 'success', 'suck', 'sucker', 'suckl', 'sudden', 'sue', 'sug', 'suidafrika', 'suig', 'suit', 'sukkel', 'suks', 'suksess', 'sum', 'summer', 'sun', 'surf', 'surviv', 'suspect', 'suspens', 'swaar', 'swaarst', 'swak', 'swallow', 'swan', 'swart', 'sweat', 'sweep', 'sweet', 'swerf', 'swerwer', 'swiep', 'swier', 'swine', 'swing', 'swoop', 'sword', 'swyne', 'sy', 'syne', 'sê', 'sêding', 'sô', 'taak', 'taal', 'tabl', 'tack', 'tafel', 'tag', 'tail', 'tak', 'take', 'taken', 'takk', 'talent', 'talk', 'tall', 'tand', 'tango', 'tanstaafl', 'tape', 'tart', 'tat', 'tattoo', 'tawdri', 'tax', 'te', 'tea', 'teach', 'teacup', 'teapot', 'tear', 'technicolor', 'technik', 'tee', 'teen', 'teenspo', 'teeth', 'telefoonhokki', 'tell', 'telt', 'temperatur', 'tempest', 'ten', 'tensi', 'tenterhook', 'ter', 'terdeë', 'terselfdertyd', 'terug', 'terugkri', 'terugvra', 'terwyl', 'test', 'teë', 'thankless', 'that', 'thee', 'theft', 'thegot', 'there', 'theyr', 'thi', 'thick', 'thicker', 'thin', 'thing', 'think', 'third', 'thorn', 'thou', 'though', 'thousand', 'three', 'throat', 'throw', 'thrust', 'thumb', 'thunder', 'thus', 'thyself', 'tick', 'tickl', 'tide', 'tie', 'tien', 'tieprag', 'tierwyfi', 'tiger', 'tight', 'tijd', 'till', 'tilt', 'timber', 'time', 'tinker', 'tissu', 'tit', 'titfer', 'tittl', 'toast', 'tod', 'toe', 'toecurl', 'toegeskroei', 'toekom', 'toerust', 'toespeek', 'toewyd', 'toffeenos', 'tog', 'togeth', 'toil', 'told', 'toler', 'toll', 'tom', 'tomorrow', 'tone', 'tong', 'tongu', 'tonight', 'tonnel', 'tonteldoek', 'toodleoo', 'tooth', 'top', 'topsyturvi', 'tot', 'totaal', 'total', 'tou', 'touch', 'touchyfe', 'tout', 'towel', 'tower', 'town', 'traan', 'trade', 'tragedi', 'trail', 'train', 'trane', 'trap', 'trappi', 'travel', 'trawant', 'tread', 'treat', 'tree', 'trein', 'trek', 'trekk', 'trekseltji', 'treur', 'tri', 'trice', 'trick', 'trip', 'triumph', 'troi', 'troo', 'trooster', 'trou', 'troubl', 'trouser', 'trowel', 'truck', 'true', 'trump', 'trumpet', 'truth', 'tu', 'tube', 'tuck', 'tucker', 'tui', 'tukki', 'turf', 'turk', 'turkey', 'turn', 'tussen', 'twaalf', 'twain', 'twak', 'twee', 'tweedehands', 'tweegesig', 'tweewielfiet', 'twelv', 'twengtweng', 'twenti', 'twenty', 'twinkl', 'twitter', 'two', 'twosho', 'tyd', 'tydverkwist', 'tye', 'ugli', 'uit', 'uitdeel', 'uiter', 'uiterlik', 'uitgebrand', 'uitgebroei', 'uitgeslap', 'uitgooi', 'uitklim', 'uitkyk', 'uitslaap', 'uitsprak', 'uittrek', 'uitvraer', 'umbrag', 'uncl', 'unclear', 'undersold', 'understand', 'underway', 'uneasi', 'unkindest', 'unto', 'unwash', 'upon', 'upper', 'upsadaisi', 'upset', 'upsid', 'urban', 'us', 'use', 'usual', 'vain', 'vakansi', 'vakansielos', 'val', 'valentin', 'van', 'vanaand', 'vandag', 'vandat', 'vang', 'vanish', 'vanmôr', 'vanself', 'vanuit', 'varieti', 'varkhok', 'varki', 'vas', 'vasgevang', 'vashou', 'vasmaak', 'vassteek', 'vat', 'vee', 'veel', 'veg', 'vegrissen', 'veilig', 'vel', 'veld', 'vele', 'ver', 'verand', 'verarm', 'verbaa', 'verbet', 'verbi', 'verbos', 'verbrand', 'verbygaan', 'verbygejaag', 'verder', 'verdien', 'verdoem', 'verdr', 'verdra', 'verdriet', 'verdwaal', 'vere', 'verg', 'vergad', 'vergeet', 'vergelyk', 'vergenoegd', 'vergifni', 'verhoud', 'verkeerd', 'verklapp', 'verkoop', 'verkopen', 'verkwist', 'verled', 'verloor', 'verneuk', 'verniet', 'veroweraar', 'verowerd', 'verpulwerd', 'verrig', 'verro', 'vers', 'versa', 'versek', 'versigtig', 'version', 'verskil', 'verskon', 'verskoon', 'verskuild', 'versla', 'verslyt', 'versoek', 'versper', 'verspoel', 'verst', 'verstandig', 'versteur', 'vertel', 'vertrap', 'vertrouwt', 'verval', 'verveel', 'verveeld', 'vervloek', 'verwaarloo', 'verwachten', 'verwag', 'verward', 'verwerk', 'verwijt', 'verwond', 'vet', 'vice', 'vicious', 'victim', 'victori', 'viez', 'vind', 'vinegar', 'vinger', 'vinnigst', 'viper', 'vir', 'virtu', 'vis', 'visavi', 'visit', 'vista', 'vita', 'vlakt', 'vlee', 'vlei', 'vleiset', 'vlerk', 'vlie', 'vlieg', 'vliegen', 'vliegt', 'vlieë', 'vlooi', 'voeg', 'voel', 'voet', 'voetspor', 'vogel', 'vogeltj', 'vol', 'volg', 'volhard', 'volhoubar', 'volmaaktheid', 'voor', 'voorberei', 'voordat', 'voordeel', 'voordeur', 'voorkomen', 'voornemen', 'voorouer', 'voorreg', 'voorspo', 'voorstel', 'vorendag', 'vorm', 'vorsprung', 'vra', 'vraag', 'vrae', 'vrate', 'vreemd', 'vreemdel', 'vreet', 'vriend', 'vriendelik', 'vriendelikheid', 'vriendskap', 'vroeg', 'vroegmôr', 'vroeër', 'vrolik', 'vrou', 'vrouen', 'vroueraad', 'vrye', 'vryf', 'vryheid', 'vryspr', 'vui', 'vuil', 'vul', 'vuur', 'vuurbek', 'vyand', 'vér', 'waai', 'waaksaamheid', 'waar', 'waard', 'waardeer', 'waarder', 'waarheid', 'waarin', 'waarom', 'waaroor', 'waarto', 'wag', 'wagon', 'wagt', 'wait', 'wakker', 'walk', 'wall', 'walter', 'wanneer', 'wanner', 'want', 'war', 'warm', 'warpath', 'wart', 'wat', 'watch', 'water', 'wateren', 'waterloo', 'watson', 'watt', 'watter', 'wave', 'wax', 'way', 'weakest', 'wealthi', 'wear', 'weasel', 'weather', 'web', 'wedden', 'wee', 'week', 'weekend', 'weer', 'weersien', 'weerstaan', 'weet', 'weewe', 'weg', 'wegen', 'weggooien', 'weglieg', 'wegloop', 'wegmen', 'weight', 'weinig', 'wel', 'weldad', 'well', 'welvaart', 'wen', 'went', 'werd', 'werk', 'werker', 'werklik', 'werklikheid', 'werknemer', 'werksmens', 'werp', 'wet', 'wete', 'whammi', 'what', 'wherefor', 'whet', 'whip', 'whipper', 'whisper', 'whistl', 'white', 'whiz', 'whole', 'wholeheart', 'whoopsadaisi', 'whore', 'whose', 'wick', 'wicket', 'wide', 'wie', 'wieg', 'wien', 'wig', 'wil', 'wild', 'willi', 'win', 'wind', 'windmil', 'wing', 'wink', 'winter', 'winterslaap', 'wise', 'wish', 'wit', 'witch', 'wither', 'within', 'without', 'witpen', 'woe', 'woert', 'wol', 'wolf', 'wolw', 'wolwehok', 'woman', 'women', 'wond', 'wonden', 'wonder', 'wood', 'wooden', 'wool', 'woolli', 'woord', 'woorden', 'word', 'work', 'world', 'worm', 'wors', 'wortel', 'worth', 'wotcher', 'wou', 'would', 'wouldnt', 'wraak', 'wrap', 'wrath', 'writ', 'write', 'wrok', 'wrong', 'wrote', 'wuzzi', 'wye', 'wyle', 'wyn', 'wys', 'wyse', 'wysiwyg', 'wêreld', 'xxx', 'yada', 'yard', 'yawn', 'ye', 'year', 'yellow', 'yellowbelli', 'yet', 'yon', 'yorick', 'york', 'youll', 'young', 'youv', 'ysterket', 'ystervark', 'yyy', 'zaait', 'zaak', 'zaken', 'zal', 'zeggen', 'zegt', 'zelden', 'zero', 'zetten', 'zien', 'ziet', 'zigzag', 'zijn', 'zingt', 'zo', 'zoal', 'zoekt', 'zonk', 'zook', 'zwart', 'zwijgen', 'àugur', 'één']\n"
     ]
    }
   ],
   "source": [
    "# check that pre-processing is working\n",
    "vectorizer = CountVectorizer()\n",
    "vectorizer.fit(df_clean)\n",
    "print(vectorizer.get_feature_names())"
   ]
  },
  {
   "cell_type": "code",
   "execution_count": 11,
   "metadata": {
    "collapsed": false,
    "jupyter": {
     "outputs_hidden": false
    }
   },
   "outputs": [],
   "source": [
    "classes = df[['language']].replace(['English','Afrikaans','Nederlands'], [0, 1, 2])"
   ]
  },
  {
   "cell_type": "code",
   "execution_count": 12,
   "metadata": {
    "collapsed": false,
    "jupyter": {
     "outputs_hidden": false
    }
   },
   "outputs": [
    {
     "data": {
      "text/html": [
       "<div>\n",
       "<style scoped>\n",
       "    .dataframe tbody tr th:only-of-type {\n",
       "        vertical-align: middle;\n",
       "    }\n",
       "\n",
       "    .dataframe tbody tr th {\n",
       "        vertical-align: top;\n",
       "    }\n",
       "\n",
       "    .dataframe thead th {\n",
       "        text-align: right;\n",
       "    }\n",
       "</style>\n",
       "<table border=\"1\" class=\"dataframe\">\n",
       "  <thead>\n",
       "    <tr style=\"text-align: right;\">\n",
       "      <th></th>\n",
       "      <th>language</th>\n",
       "      <th>text</th>\n",
       "    </tr>\n",
       "  </thead>\n",
       "  <tbody>\n",
       "    <tr>\n",
       "      <th>0</th>\n",
       "      <td>0</td>\n",
       "      <td>ship shape bristol fashion</td>\n",
       "    </tr>\n",
       "    <tr>\n",
       "      <th>1</th>\n",
       "      <td>0</td>\n",
       "      <td>know rope</td>\n",
       "    </tr>\n",
       "    <tr>\n",
       "      <th>2</th>\n",
       "      <td>0</td>\n",
       "      <td>graveyard shift</td>\n",
       "    </tr>\n",
       "    <tr>\n",
       "      <th>3</th>\n",
       "      <td>0</td>\n",
       "      <td>milk human kind</td>\n",
       "    </tr>\n",
       "    <tr>\n",
       "      <th>4</th>\n",
       "      <td>0</td>\n",
       "      <td>touch bargepol wouldnt</td>\n",
       "    </tr>\n",
       "    <tr>\n",
       "      <th>5</th>\n",
       "      <td>1</td>\n",
       "      <td>sy kan altyd batteri natpiepi</td>\n",
       "    </tr>\n",
       "    <tr>\n",
       "      <th>6</th>\n",
       "      <td>0</td>\n",
       "      <td>shit hit fan</td>\n",
       "    </tr>\n",
       "    <tr>\n",
       "      <th>8</th>\n",
       "      <td>0</td>\n",
       "      <td>egg</td>\n",
       "    </tr>\n",
       "    <tr>\n",
       "      <th>9</th>\n",
       "      <td>0</td>\n",
       "      <td>drag race</td>\n",
       "    </tr>\n",
       "    <tr>\n",
       "      <th>10</th>\n",
       "      <td>0</td>\n",
       "      <td>queer nine bob note</td>\n",
       "    </tr>\n",
       "  </tbody>\n",
       "</table>\n",
       "</div>"
      ],
      "text/plain": [
       "    language                           text\n",
       "0          0     ship shape bristol fashion\n",
       "1          0                      know rope\n",
       "2          0                graveyard shift\n",
       "3          0                milk human kind\n",
       "4          0         touch bargepol wouldnt\n",
       "5          1  sy kan altyd batteri natpiepi\n",
       "6          0                   shit hit fan\n",
       "8          0                            egg\n",
       "9          0                      drag race\n",
       "10         0            queer nine bob note"
      ]
     },
     "execution_count": 12,
     "metadata": {},
     "output_type": "execute_result"
    }
   ],
   "source": [
    "data_frame = classes.join(df_clean)\n",
    "data_frame.head(10)"
   ]
  },
  {
   "cell_type": "markdown",
   "metadata": {},
   "source": [
    "### Split the data to training and test dataset \n",
    "To validate the classifier against unseen data, we can just split the training set into two parts with a ratio of 2:8 "
   ]
  },
  {
   "cell_type": "code",
   "execution_count": 13,
   "metadata": {},
   "outputs": [],
   "source": [
    "X_train, X_test, Y_train, Y_test = model_selection.train_test_split(data_frame['text'],data_frame['language'], test_size=0.2, random_state=0)"
   ]
  },
  {
   "cell_type": "code",
   "execution_count": 65,
   "metadata": {},
   "outputs": [
    {
     "data": {
      "text/plain": [
       "dict_keys(['explained_variance', 'r2', 'max_error', 'neg_median_absolute_error', 'neg_mean_absolute_error', 'neg_mean_squared_error', 'neg_mean_squared_log_error', 'neg_root_mean_squared_error', 'neg_mean_poisson_deviance', 'neg_mean_gamma_deviance', 'accuracy', 'roc_auc', 'roc_auc_ovr', 'roc_auc_ovo', 'roc_auc_ovr_weighted', 'roc_auc_ovo_weighted', 'balanced_accuracy', 'average_precision', 'neg_log_loss', 'neg_brier_score', 'adjusted_rand_score', 'homogeneity_score', 'completeness_score', 'v_measure_score', 'mutual_info_score', 'adjusted_mutual_info_score', 'normalized_mutual_info_score', 'fowlkes_mallows_score', 'precision', 'precision_macro', 'precision_micro', 'precision_samples', 'precision_weighted', 'recall', 'recall_macro', 'recall_micro', 'recall_samples', 'recall_weighted', 'f1', 'f1_macro', 'f1_micro', 'f1_samples', 'f1_weighted', 'jaccard', 'jaccard_macro', 'jaccard_micro', 'jaccard_samples', 'jaccard_weighted'])"
      ]
     },
     "execution_count": 65,
     "metadata": {},
     "output_type": "execute_result"
    }
   ],
   "source": [
    "metrics.SCORERS.keys()"
   ]
  },
  {
   "cell_type": "markdown",
   "metadata": {},
   "source": [
    "# Try SVM Model:\n",
    "Let's try Stochastic Gradient Descent classifier with loss 'hinge', which is an SVM model,  and see how it is going to work"
   ]
  },
  {
   "cell_type": "code",
   "execution_count": 31,
   "metadata": {
    "collapsed": false,
    "jupyter": {
     "outputs_hidden": false
    }
   },
   "outputs": [],
   "source": [
    "sgd_clf = Pipeline([('vect', CountVectorizer()),\n",
    "                    ('tfidf', TfidfTransformer()),\n",
    "        ('clf', SGDClassifier(loss='hinge', penalty='l2',class_weight=\"balanced\")),])\n",
    "# train the model on the 80% of the data, the training dataset \n",
    "sgd_clf = sgd_clf.fit(X_train, Y_train)"
   ]
  },
  {
   "cell_type": "code",
   "execution_count": 69,
   "metadata": {
    "collapsed": false,
    "jupyter": {
     "outputs_hidden": false
    }
   },
   "outputs": [
    {
     "name": "stdout",
     "output_type": "stream",
     "text": [
      "=========================================\n",
      "CV F1 score: 0.972 +/- 0.008\n",
      "=========================================\n",
      "[[409   1   1]\n",
      " [  5 124   1]\n",
      " [  1   1  10]]\n"
     ]
    },
    {
     "data": {
      "image/png": "[encoded data removed]",
      "text/plain": [
       "<Figure size 432x288 with 2 Axes>"
      ]
     },
     "metadata": {},
     "output_type": "display_data"
    }
   ],
   "source": [
    "# check how the \n",
    "predicted = sgd_clf.predict(X_test)\n",
    "np.mean(predicted == Y_test)    \n",
    "kfold = model_selection.StratifiedKFold(n_splits=5)\n",
    "scores = model_selection.cross_val_score(estimator=sgd_clf,\n",
    "                         X=X_train,\n",
    "                         y=Y_train,\n",
    "                         cv=kfold, scoring='f1_weighted')\n",
    "print( \"=========================================\")\n",
    "print('CV F1 score: %.3f +/- %.3f' % (np.mean(scores),\n",
    "                                      np.std(scores)))\n",
    "print( \"=========================================\")\n",
    "\n",
    "\n",
    "\n",
    "### Check how the model perform using the confusion matrix \n",
    "\n",
    "predicted_Y=sgd_clf.predict(X_test)\n",
    "test_results = confusion_matrix(Y_test.values, predicted_Y,labels=[0,1,2])\n",
    "print( test_results)\n",
    "sns.heatmap(test_results)\n",
    "no_tickers = np.arange(3)\n",
    "plt.xticks(no_tickers)\n",
    "plt.yticks(no_tickers)\n",
    "plt.xlabel('predicted label')\n",
    "plt.ylabel('true label')\n",
    "plt.show()"
   ]
  },
  {
   "cell_type": "markdown",
   "metadata": {},
   "source": [
    "### Other evaluation matrices "
   ]
  },
  {
   "cell_type": "code",
   "execution_count": 70,
   "metadata": {
    "collapsed": false,
    "jupyter": {
     "outputs_hidden": false
    }
   },
   "outputs": [
    {
     "name": "stdout",
     "output_type": "stream",
     "text": [
      "              precision    recall  f1-score   support\n",
      "\n",
      "     English       0.99      1.00      0.99       411\n",
      "   Afrikaans       0.98      0.95      0.97       130\n",
      "       Dutch       0.83      0.83      0.83        12\n",
      "\n",
      "    accuracy                           0.98       553\n",
      "   macro avg       0.93      0.93      0.93       553\n",
      "weighted avg       0.98      0.98      0.98       553\n",
      "\n"
     ]
    }
   ],
   "source": [
    "print(classification_report(Y_test, predicted_Y, target_names=['English','Afrikaans', 'Dutch']))"
   ]
  },
  {
   "cell_type": "markdown",
   "metadata": {},
   "source": [
    "### Debugging algorithms with learning and validation curves"
   ]
  },
  {
   "cell_type": "code",
   "execution_count": 40,
   "metadata": {
    "collapsed": false,
    "jupyter": {
     "outputs_hidden": false
    }
   },
   "outputs": [],
   "source": [
    "train_sizes, train_scores, test_scores = model_selection.learning_curve(estimator=sgd_clf,\n",
    "                                                        X=X_train,\n",
    "                                                        y=Y_train,\n",
    "                                                        train_sizes=np.linspace(0.1, 1.0, 10),\n",
    "                                                        cv=10)"
   ]
  },
  {
   "cell_type": "code",
   "execution_count": 41,
   "metadata": {
    "collapsed": false,
    "jupyter": {
     "outputs_hidden": false
    }
   },
   "outputs": [
    {
     "data": {
      "text/plain": [
       "[<matplotlib.lines.Line2D at 0x7f3cf2a700d0>]"
      ]
     },
     "execution_count": 41,
     "metadata": {},
     "output_type": "execute_result"
    },
    {
     "data": {
      "image/png": "[encoded data removed]",
      "text/plain": [
       "<Figure size 432x288 with 1 Axes>"
      ]
     },
     "metadata": {},
     "output_type": "display_data"
    }
   ],
   "source": [
    "train_mean = np.mean(train_scores, axis=1)\n",
    "train_std = np.std(train_scores, axis=1)\n",
    "test_mean = np.mean(test_scores, axis=1)\n",
    "test_std = np.std(test_scores, axis=1)\n",
    "plt.plot(train_sizes, train_mean, color='purple', marker='o', markersize=5,label='training accuracy')"
   ]
  },
  {
   "cell_type": "markdown",
   "metadata": {},
   "source": [
    "### Is there over fitting?"
   ]
  },
  {
   "cell_type": "code",
   "execution_count": 42,
   "metadata": {
    "collapsed": false,
    "jupyter": {
     "outputs_hidden": false
    }
   },
   "outputs": [
    {
     "data": {
      "image/png": "[encoded data removed]",
      "text/plain": [
       "<Figure size 432x288 with 1 Axes>"
      ]
     },
     "metadata": {},
     "output_type": "display_data"
    }
   ],
   "source": [
    "plt.plot(train_sizes, train_mean, color='blue', linestyle='--', marker='s', markersize=5, label='training accuracy')\n",
    "plt.fill_between(train_sizes, train_mean + train_std, train_mean - train_std,alpha=0.15, color='blue')\n",
    "plt.plot(train_sizes, test_mean, color='purple', linestyle='--', marker='s', markersize=5, label='validation accuracy')\n",
    "plt.fill_between(train_sizes, test_mean + test_std, test_mean - test_std, alpha=0.15, color='red')\n",
    "plt.grid()\n",
    "plt.xlabel('Number of training samples')\n",
    "plt.ylabel('Accuracy')\n",
    "plt.legend(loc='lower right')\n",
    "plt.ylim([0.8, 1.0])\n",
    "plt.show()\n",
    "# I won't worry much about the differences.."
   ]
  },
  {
   "cell_type": "markdown",
   "metadata": {},
   "source": [
    "## Tuning the model hyperparameters"
   ]
  },
  {
   "cell_type": "code",
   "execution_count": 53,
   "metadata": {},
   "outputs": [],
   "source": [
    "parameters = {'vect__ngram_range': [(1, 1), (1, 2)],\n",
    "              'tfidf__use_idf': (True, False),\n",
    "              'clf__alpha': [0.0001, 0.001, 0.01, 0.1],\n",
    "                \"clf__penalty\" : [\"l2\", \"l1\", \"none\"],\n",
    "             'clf__loss':['hinge', 'log', 'modified_huber', 'squared_hinge', 'perceptron']}"
   ]
  },
  {
   "cell_type": "code",
   "execution_count": 55,
   "metadata": {},
   "outputs": [],
   "source": [
    "gs_clf = model_selection.GridSearchCV(sgd_clf, parameters, n_jobs=-1)"
   ]
  },
  {
   "cell_type": "code",
   "execution_count": 56,
   "metadata": {},
   "outputs": [],
   "source": [
    "gs_clf = gs_clf.fit(X_train, Y_train)"
   ]
  },
  {
   "cell_type": "code",
   "execution_count": 57,
   "metadata": {
    "collapsed": false,
    "jupyter": {
     "outputs_hidden": false
    }
   },
   "outputs": [
    {
     "data": {
      "text/plain": [
       "Pipeline(steps=[('vect', CountVectorizer()),\n",
       "                ('tfidf', TfidfTransformer(use_idf=False)),\n",
       "                ('clf',\n",
       "                 SGDClassifier(alpha=0.1, class_weight='balanced',\n",
       "                               loss='perceptron'))])"
      ]
     },
     "execution_count": 57,
     "metadata": {},
     "output_type": "execute_result"
    }
   ],
   "source": [
    "gs_clf.best_estimator_"
   ]
  },
  {
   "cell_type": "code",
   "execution_count": 58,
   "metadata": {
    "collapsed": false,
    "jupyter": {
     "outputs_hidden": false
    }
   },
   "outputs": [
    {
     "data": {
      "text/plain": [
       "0.9764541714121545"
      ]
     },
     "execution_count": 58,
     "metadata": {},
     "output_type": "execute_result"
    }
   ],
   "source": [
    "gs_clf.best_score_ "
   ]
  },
  {
   "cell_type": "code",
   "execution_count": 51,
   "metadata": {
    "collapsed": false,
    "jupyter": {
     "outputs_hidden": false
    }
   },
   "outputs": [
    {
     "name": "stdout",
     "output_type": "stream",
     "text": [
      "553\n",
      "[[408   3   0]\n",
      " [  5 124   1]\n",
      " [  3   2   7]]\n"
     ]
    },
    {
     "data": {
      "image/png": "[encoded data removed]",
      "text/plain": [
       "<Figure size 432x288 with 2 Axes>"
      ]
     },
     "metadata": {},
     "output_type": "display_data"
    }
   ],
   "source": [
    "### Check how the model perform using the confusion matrix \n",
    "print( len(X_test))\n",
    "predicted_Y=gs_clf.best_estimator_.predict(X_test)\n",
    "test_results = confusion_matrix(Y_test.values, predicted_Y,labels=[0,1,2])\n",
    "print( test_results)\n",
    "sns.heatmap(test_results)\n",
    "no_tickers = np.arange(3)\n",
    "plt.xticks(no_tickers)\n",
    "plt.yticks(no_tickers)\n",
    "plt.xlabel('predicted label')\n",
    "plt.ylabel('true label')\n",
    "plt.show()"
   ]
  },
  {
   "cell_type": "markdown",
   "metadata": {},
   "source": [
    "\n",
    "# Undersample the majority class to investigate the imbalance in the classes"
   ]
  },
  {
   "cell_type": "code",
   "execution_count": 72,
   "metadata": {
    "collapsed": false,
    "jupyter": {
     "outputs_hidden": false
    }
   },
   "outputs": [
    {
     "name": "stdout",
     "output_type": "stream",
     "text": [
      "67\n"
     ]
    }
   ],
   "source": [
    "contain_Nederlands  = data_frame[data_frame.language==2]\n",
    "print( len(contain_Nederlands[contain_Nederlands==True]))"
   ]
  },
  {
   "cell_type": "code",
   "execution_count": 73,
   "metadata": {
    "collapsed": false,
    "jupyter": {
     "outputs_hidden": false
    }
   },
   "outputs": [
    {
     "name": "stdout",
     "output_type": "stream",
     "text": [
      "100\n"
     ]
    }
   ],
   "source": [
    "contain_English = data_frame[data_frame.language==0][:100]\n",
    "print( len(contain_English[contain_English==True]))"
   ]
  },
  {
   "cell_type": "code",
   "execution_count": 74,
   "metadata": {
    "collapsed": false,
    "jupyter": {
     "outputs_hidden": false
    }
   },
   "outputs": [
    {
     "name": "stdout",
     "output_type": "stream",
     "text": [
      "100\n"
     ]
    }
   ],
   "source": [
    "contain_Afrikaans = data_frame[data_frame.language==1][:100]\n",
    "print( len(contain_Afrikaans[contain_Afrikaans==True]))"
   ]
  },
  {
   "cell_type": "code",
   "execution_count": 75,
   "metadata": {
    "collapsed": false,
    "jupyter": {
     "outputs_hidden": false
    }
   },
   "outputs": [
    {
     "name": "stdout",
     "output_type": "stream",
     "text": [
      "267\n"
     ]
    }
   ],
   "source": [
    "# create the \n",
    "undersampled_df  = contain_English.append(contain_Afrikaans.append(contain_Nederlands))\n",
    "print (len(undersampled_df))"
   ]
  },
  {
   "cell_type": "code",
   "execution_count": 81,
   "metadata": {
    "collapsed": false,
    "jupyter": {
     "outputs_hidden": false
    }
   },
   "outputs": [],
   "source": [
    "X_train_US, X_test_US, Y_train_US, Y_test_US = model_selection.train_test_split(undersampled_df['text'],undersampled_df['language'], test_size=0.5, random_state=0)"
   ]
  },
  {
   "cell_type": "code",
   "execution_count": 82,
   "metadata": {
    "collapsed": false,
    "jupyter": {
     "outputs_hidden": false
    }
   },
   "outputs": [
    {
     "data": {
      "text/plain": [
       "language    0\n",
       "text        0\n",
       "dtype: int64"
      ]
     },
     "execution_count": 82,
     "metadata": {},
     "output_type": "execute_result"
    }
   ],
   "source": [
    "undersampled_df.isnull().sum()"
   ]
  },
  {
   "cell_type": "markdown",
   "metadata": {},
   "source": [
    "# redo the model, tune the model and the evaluation, for the the undersampled (english class) data frame. "
   ]
  },
  {
   "cell_type": "code",
   "execution_count": 95,
   "metadata": {
    "collapsed": false,
    "jupyter": {
     "outputs_hidden": false
    }
   },
   "outputs": [
    {
     "name": "stdout",
     "output_type": "stream",
     "text": [
      "[[51  1  0]\n",
      " [ 3 43  5]\n",
      " [ 8  1 22]]\n"
     ]
    },
    {
     "data": {
      "image/png": "[encoded data removed]",
      "text/plain": [
       "<Figure size 432x288 with 2 Axes>"
      ]
     },
     "metadata": {},
     "output_type": "display_data"
    },
    {
     "name": "stdout",
     "output_type": "stream",
     "text": [
      "=========================================\n",
      "CV F1 score: 0.891 +/- 0.068\n",
      "=========================================\n"
     ]
    }
   ],
   "source": [
    "from sklearn.linear_model import SGDClassifier\n",
    "sgd_clf = Pipeline([('vect', CountVectorizer()),\n",
    "                    ('tfidf', TfidfTransformer()),\n",
    "        ('clf', SGDClassifier(loss='perceptron', penalty='l2',alpha=0.1, class_weight=\"balanced\", random_state=0)),])\n",
    "_ = sgd_clf.fit(X_train_US, Y_train_US)\n",
    "predicted = sgd_clf.predict(X_test_US)\n",
    "np.mean(predicted == Y_test_US)    \n",
    "\n",
    "### Check how the model perform using the confusion matrix \n",
    "\n",
    "predicted_Y=sgd_clf.predict(X_test_US)\n",
    "test_results = confusion_matrix(Y_test_US.values, predicted_Y,labels=[0,1,2])\n",
    "print( test_results)\n",
    "sns.heatmap(test_results)\n",
    "no_tickers = np.arange(3)\n",
    "plt.xticks(no_tickers)\n",
    "plt.yticks(no_tickers)\n",
    "plt.xlabel('predicted label')\n",
    "plt.ylabel('true label')\n",
    "plt.show()\n",
    "\n",
    "#preform cross validation using 5 folds\n",
    "kfold = model_selection.StratifiedKFold()\n",
    "scores_US = model_selection.cross_val_score(estimator=sgd_clf,\n",
    "                         X=X_train_US,\n",
    "                         y=Y_train_US,\n",
    "                         cv=kfold, scoring='f1_weighted')\n",
    "print( \"=========================================\")\n",
    "print('CV F1 score: %.3f +/- %.3f' % (np.mean(scores_US),\n",
    "                                      np.std(scores_US)))\n",
    "print (\"=========================================\")"
   ]
  },
  {
   "cell_type": "markdown",
   "metadata": {},
   "source": [
    "## Tuning the model hyperparameters"
   ]
  },
  {
   "cell_type": "code",
   "execution_count": 84,
   "metadata": {
    "collapsed": false,
    "jupyter": {
     "outputs_hidden": false
    }
   },
   "outputs": [
    {
     "name": "stdout",
     "output_type": "stream",
     "text": [
      "Pipeline(steps=[('vect', CountVectorizer()),\n",
      "                ('tfidf', TfidfTransformer(use_idf=False)),\n",
      "                ('clf',\n",
      "                 SGDClassifier(alpha=0.001, class_weight='balanced', loss='log',\n",
      "                               penalty='none', random_state=0))])\n",
      "0.9401709401709402\n",
      "[[51  1  0]\n",
      " [ 3 43  5]\n",
      " [ 8  1 22]]\n"
     ]
    },
    {
     "data": {
      "image/png": "[encoded data removed]",
      "text/plain": [
       "<Figure size 432x288 with 2 Axes>"
      ]
     },
     "metadata": {},
     "output_type": "display_data"
    }
   ],
   "source": [
    "parameters = {'vect__ngram_range': [(1, 1), (1, 2)],\n",
    "              'tfidf__use_idf': (True, False),\n",
    "              'clf__alpha': [0.0001, 0.001, 0.01, 0.1],\n",
    "                \"clf__penalty\" : [\"l2\", \"l1\", \"none\"],\n",
    "             'clf__loss':['hinge', 'log', 'modified_huber', 'squared_hinge', 'perceptron']}\n",
    "gs_clf = model_selection.GridSearchCV(sgd_clf, parameters, n_jobs=-1)\n",
    "gs_clf = gs_clf.fit(X_train_US, Y_train_US)\n",
    "print( gs_clf.best_estimator_)\n",
    "print( gs_clf.best_score_ )\n",
    "### Check how the model perform using the confusion matrix \n",
    "\n",
    "predicted_Y_US=gs_clf.best_estimator_.predict(X_test_US)\n",
    "test_results = confusion_matrix(Y_test_US.values, predicted_Y,labels=[0,1,2])\n",
    "print( test_results)\n",
    "sns.heatmap(test_results)\n",
    "no_tickers = np.arange(3)\n",
    "plt.xticks(no_tickers)\n",
    "plt.yticks(no_tickers)\n",
    "plt.xlabel('predicted label')\n",
    "plt.ylabel('true label')\n",
    "plt.show()"
   ]
  },
  {
   "cell_type": "code",
   "execution_count": 94,
   "metadata": {},
   "outputs": [
    {
     "data": {
      "text/plain": [
       "array([1, 0, 2, 0, 2, 2, 0, 0, 2, 0, 2, 0, 1, 1, 0, 1, 1, 1, 1, 0, 1, 2,\n",
       "       0, 0, 1, 1, 1, 2, 1, 2, 1, 2, 0, 1, 0, 1, 2, 0, 2, 0, 2, 1, 0, 2,\n",
       "       1, 0, 0, 1, 0, 0, 1, 2, 0, 2, 1, 1, 2, 0, 0, 0, 1, 0, 0, 1, 1, 0,\n",
       "       1, 1, 0, 2, 1, 0, 0, 1, 1, 0, 1, 0, 1, 1, 1, 2, 0, 0, 1, 0, 1, 0,\n",
       "       1, 1, 1, 2, 0, 1, 0, 0, 0, 0, 0, 1, 1, 1, 0, 0, 0, 1, 1, 0, 1, 0,\n",
       "       0, 2, 1, 0, 0, 0, 1, 0, 0, 2, 2, 0, 1, 0, 0, 0, 1, 1, 1, 0, 0, 1,\n",
       "       2, 0])"
      ]
     },
     "execution_count": 94,
     "metadata": {},
     "output_type": "execute_result"
    }
   ],
   "source": [
    "gs_clf.predict(X_test_US)"
   ]
  },
  {
   "cell_type": "code",
   "execution_count": 85,
   "metadata": {
    "collapsed": false,
    "jupyter": {
     "outputs_hidden": false
    }
   },
   "outputs": [
    {
     "name": "stdout",
     "output_type": "stream",
     "text": [
      "              precision    recall  f1-score   support\n",
      "\n",
      "     English       0.86      0.98      0.92        52\n",
      "   Afrikaans       0.94      0.96      0.95        51\n",
      "       Dutch       0.96      0.71      0.81        31\n",
      "\n",
      "    accuracy                           0.91       134\n",
      "   macro avg       0.92      0.88      0.90       134\n",
      "weighted avg       0.92      0.91      0.91       134\n",
      "\n"
     ]
    }
   ],
   "source": [
    "print(classification_report(Y_test_US, predicted_Y_US, target_names=['English','Afrikaans', 'Dutch']))"
   ]
  },
  {
   "cell_type": "markdown",
   "metadata": {},
   "source": [
    "# Save the model "
   ]
  },
  {
   "cell_type": "code",
   "execution_count": 72,
   "metadata": {},
   "outputs": [],
   "source": [
    "filename = '../models/lang_class_final_svm_model.sav'\n",
    "pickle.dump(gs_clf.best_estimator_, open(filename, 'wb'))"
   ]
  },
  {
   "cell_type": "code",
   "execution_count": 32,
   "metadata": {
    "collapsed": false,
    "jupyter": {
     "outputs_hidden": false
    }
   },
   "outputs": [],
   "source": [
    "#loaded_model = pickle.load(open(filename, 'rb'))\n",
    "#loaded_model.predict(X_test)"
   ]
  }
 ],
 "metadata": {
  "kernelspec": {
   "display_name": "Python 3",
   "language": "python",
   "name": "python3"
  },
  "language_info": {
   "codemirror_mode": {
    "name": "ipython",
    "version": 3
   },
   "file_extension": ".py",
   "mimetype": "text/x-python",
   "name": "python",
   "nbconvert_exporter": "python",
   "pygments_lexer": "ipython3",
   "version": "3.7.6"
  }
 },
 "nbformat": 4,
 "nbformat_minor": 4
}
