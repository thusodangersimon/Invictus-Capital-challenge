{
 "cells": [
  {
   "cell_type": "markdown",
   "metadata": {},
   "source": [
    "# Purpose\n",
    "This notebook is used to run the text classification model"
   ]
  },
  {
   "cell_type": "code",
   "execution_count": 1,
   "metadata": {},
   "outputs": [],
   "source": [
    "import sys\n",
    "sys.path.append('../')\n",
    "\n",
    "from src.nlp_pre_processing import TextNormalization\n",
    "import numpy as np\n",
    "import pandas as pd\n",
    "import pickle"
   ]
  },
  {
   "cell_type": "code",
   "execution_count": 2,
   "metadata": {},
   "outputs": [
    {
     "data": {
      "text/plain": [
       "Pipeline(steps=[('vect', CountVectorizer()), ('tfidf', TfidfTransformer()),\n",
       "                ('clf',\n",
       "                 SGDClassifier(alpha=0.01, class_weight='balanced',\n",
       "                               random_state=0))])"
      ]
     },
     "execution_count": 2,
     "metadata": {},
     "output_type": "execute_result"
    }
   ],
   "source": [
    "# load model\n",
    "model_path = '../models/lang_class_final_svm_model.sav'\n",
    "text_clf = pickle.load(open(model_path,'rb'))\n",
    "text_clf"
   ]
  },
  {
   "cell_type": "code",
   "execution_count": 3,
   "metadata": {},
   "outputs": [
    {
     "data": {
      "text/plain": [
       "Pipeline(steps=[('normalization',\n",
       "                 <src.nlp_pre_processing.TextNormalization object at 0x7f8287f96890>),\n",
       "                ('vect', CountVectorizer()), ('tfidf', TfidfTransformer()),\n",
       "                ('clf',\n",
       "                 SGDClassifier(alpha=0.01, class_weight='balanced',\n",
       "                               random_state=0))])"
      ]
     },
     "execution_count": 3,
     "metadata": {},
     "output_type": "execute_result"
    }
   ],
   "source": [
    "# add text norm step\n",
    "text_clf.steps.insert(0,('normalization', TextNormalization()))\n",
    "text_clf"
   ]
  },
  {
   "cell_type": "code",
   "execution_count": 4,
   "metadata": {},
   "outputs": [],
   "source": [
    "# load data\n",
    "data_path = \"../data/lang_data.csv\"\n",
    "data_df = pd.read_csv(data_path).dropna(how='any',axis=0)"
   ]
  },
  {
   "cell_type": "code",
   "execution_count": 5,
   "metadata": {},
   "outputs": [],
   "source": [
    "# result parser ['English','Afrikaans', 'Dutch']\n",
    "class_parser = dict()\n",
    "class_parser[0] = 'English'\n",
    "class_parser[1] = 'Afrikaans'\n",
    "class_parser[2] = 'Dutch'"
   ]
  },
  {
   "cell_type": "markdown",
   "metadata": {},
   "source": [
    "# Run model\n",
    "\n",
    "Give model randomly selected phrase"
   ]
  },
  {
   "cell_type": "code",
   "execution_count": 6,
   "metadata": {},
   "outputs": [
    {
     "name": "stdout",
     "output_type": "stream",
     "text": [
      "The phrase is \"Fit as a fiddle\"\n",
      "The model thinks the phrase is in English! The actual language is English.\n"
     ]
    }
   ],
   "source": [
    "random_phrase = data_df.sample(1)\n",
    "result = text_clf.predict(random_phrase.text)\n",
    "print('The phrase is \"{}\"'.format(random_phrase.text.values[0]))\n",
    "print('The model thinks the phrase is in {}! The actual language is {}.'.format(class_parser[result[0]],random_phrase.language.values[0]))"
   ]
  },
  {
   "cell_type": "markdown",
   "metadata": {},
   "source": [
    "## Input models outside of corpus"
   ]
  },
  {
   "cell_type": "code",
   "execution_count": 7,
   "metadata": {},
   "outputs": [
    {
     "name": "stdout",
     "output_type": "stream",
     "text": [
      "The model thinks the phrase is in English!\n"
     ]
    }
   ],
   "source": [
    "# english\n",
    "phrase = 'Thanks so much for the birthday money.'\n",
    "phrase = pd.DataFrame(data=[phrase],columns=['text'])\n",
    "result = text_clf.predict(phrase.text)\n",
    "print('The model thinks the phrase is in {}!'.format(class_parser[result[0]]))"
   ]
  },
  {
   "cell_type": "code",
   "execution_count": 8,
   "metadata": {},
   "outputs": [
    {
     "name": "stdout",
     "output_type": "stream",
     "text": [
      "The model thinks the phrase is in Dutch!\n"
     ]
    }
   ],
   "source": [
    "# Dutch\n",
    "phrase = 'Waar is het toilet?'\n",
    "phrase = pd.DataFrame(data=[phrase],columns=['text'])\n",
    "result = text_clf.predict(phrase.text)\n",
    "print('The model thinks the phrase is in {}!'.format(class_parser[result[0]]))"
   ]
  },
  {
   "cell_type": "code",
   "execution_count": 9,
   "metadata": {},
   "outputs": [
    {
     "name": "stdout",
     "output_type": "stream",
     "text": [
      "The model thinks the phrase is in Afrikaans!\n"
     ]
    }
   ],
   "source": [
    "# Afrikaans\n",
    "phrase = 'Sal jy met my dans, asseblief?'\n",
    "phrase = pd.DataFrame(data=[phrase],columns=['text'])\n",
    "result = text_clf.predict(phrase.text)\n",
    "print('The model thinks the phrase is in {}!'.format(class_parser[result[0]]))"
   ]
  },
  {
   "cell_type": "code",
   "execution_count": null,
   "metadata": {},
   "outputs": [],
   "source": []
  }
 ],
 "metadata": {
  "kernelspec": {
   "display_name": "Python 3",
   "language": "python",
   "name": "python3"
  },
  "language_info": {
   "codemirror_mode": {
    "name": "ipython",
    "version": 3
   },
   "file_extension": ".py",
   "mimetype": "text/x-python",
   "name": "python",
   "nbconvert_exporter": "python",
   "pygments_lexer": "ipython3",
   "version": "3.7.6"
  }
 },
 "nbformat": 4,
 "nbformat_minor": 4
}
